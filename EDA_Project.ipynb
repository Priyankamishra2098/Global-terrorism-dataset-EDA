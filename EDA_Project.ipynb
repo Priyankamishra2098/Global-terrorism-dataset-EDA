{
  "nbformat": 4,
  "nbformat_minor": 0,
  "metadata": {
    "colab": {
      "provenance": [],
      "authorship_tag": "ABX9TyPX6S2yeU/YxNzg9FDNUIQ1",
      "include_colab_link": true
    },
    "kernelspec": {
      "name": "python3",
      "display_name": "Python 3"
    },
    "language_info": {
      "name": "python"
    }
  },
  "cells": [
    {
      "cell_type": "markdown",
      "metadata": {
        "id": "view-in-github",
        "colab_type": "text"
      },
      "source": [
        "<a href=\"https://colab.research.google.com/github/Priyankamishra2098/Global-terrorism-datset-EDA/blob/main/EDA_Project.ipynb\" target=\"_parent\"><img src=\"https://colab.research.google.com/assets/colab-badge.svg\" alt=\"Open In Colab\"/></a>"
      ]
    },
    {
      "cell_type": "code",
      "execution_count": null,
      "metadata": {
        "id": "vF9lUq2vL2qu"
      },
      "outputs": [],
      "source": []
    },
    {
      "cell_type": "markdown",
      "source": [
        "## **1.Importing Libraries and Dataset**"
      ],
      "metadata": {
        "id": "HhfV-JJviCcP"
      }
    },
    {
      "cell_type": "markdown",
      "source": [
        "### Importing Libraries"
      ],
      "metadata": {
        "id": "avjQpq98Yr6O"
      }
    },
    {
      "cell_type": "code",
      "execution_count": 1,
      "metadata": {
        "id": "qR44qWtMXE-v",
        "colab": {
          "base_uri": "https://localhost:8080/"
        },
        "outputId": "06c80dc0-c5a7-454f-c0d5-8b529f290de7"
      },
      "outputs": [
        {
          "output_type": "stream",
          "name": "stdout",
          "text": [
            "Libraries imported sucessfully\n"
          ]
        }
      ],
      "source": [
        "#importing libraries\n",
        "import numpy as np\n",
        "import pandas as pd\n",
        "import matplotlib.pyplot as plt\n",
        "import seaborn as sns\n",
        "import plotly.express as px\n",
        "from wordcloud import WordCloud\n",
        "import warnings\n",
        "warnings.filterwarnings('ignore')\n",
        "print(\"Libraries imported sucessfully\")\n"
      ]
    },
    {
      "cell_type": "markdown",
      "source": [
        "### Loading Dataset"
      ],
      "metadata": {
        "id": "j_9dBOKZV5Tn"
      }
    },
    {
      "cell_type": "code",
      "source": [
        "from google.colab import drive\n",
        "drive.mount('/content/drive')"
      ],
      "metadata": {
        "id": "tje2YtXmh13X",
        "colab": {
          "base_uri": "https://localhost:8080/"
        },
        "outputId": "50efde96-2041-4788-eaba-f1f880ef3531"
      },
      "execution_count": 2,
      "outputs": [
        {
          "output_type": "stream",
          "name": "stdout",
          "text": [
            "Mounted at /content/drive\n"
          ]
        }
      ]
    },
    {
      "cell_type": "code",
      "source": [
        "df = \"/content/drive/MyDrive/data/Global Terrorism Data.csv\"\n",
        "print(\"Dataset loaded sucessfully\")"
      ],
      "metadata": {
        "id": "0fHPCr0dh5Tj",
        "colab": {
          "base_uri": "https://localhost:8080/"
        },
        "outputId": "4a3d9f30-29bf-49be-e531-c939e911360b"
      },
      "execution_count": 3,
      "outputs": [
        {
          "output_type": "stream",
          "name": "stdout",
          "text": [
            "Dataset loaded sucessfully\n"
          ]
        }
      ]
    },
    {
      "cell_type": "markdown",
      "source": [
        "### Reading of Dataset"
      ],
      "metadata": {
        "id": "q3PlFvoDW1w-"
      }
    },
    {
      "cell_type": "code",
      "source": [
        "data_ter = pd.read_csv(df,encoding = 'ISO-8859-1') \n",
        "print('Dataset Read Successfully')"
      ],
      "metadata": {
        "colab": {
          "base_uri": "https://localhost:8080/"
        },
        "id": "GE5_us2LhoJY",
        "outputId": "f16e04d8-c983-4ed4-de9c-630a242dbb13"
      },
      "execution_count": 4,
      "outputs": [
        {
          "output_type": "stream",
          "name": "stdout",
          "text": [
            "Dataset Read Successfully\n"
          ]
        }
      ]
    },
    {
      "cell_type": "markdown",
      "source": [
        "###Dimensions of Dataset"
      ],
      "metadata": {
        "id": "fk5xcdMJXJAv"
      }
    },
    {
      "cell_type": "code",
      "source": [
        "data_ter.shape"
      ],
      "metadata": {
        "colab": {
          "base_uri": "https://localhost:8080/"
        },
        "id": "h633tGVVNFor",
        "outputId": "81476ee0-e68d-48b2-fdcb-f6cff46b66cd"
      },
      "execution_count": 5,
      "outputs": [
        {
          "output_type": "execute_result",
          "data": {
            "text/plain": [
              "(181691, 135)"
            ]
          },
          "metadata": {},
          "execution_count": 5
        }
      ]
    },
    {
      "cell_type": "markdown",
      "source": [
        "### Dataset First View"
      ],
      "metadata": {
        "id": "oRf9RqulZnOt"
      }
    },
    {
      "cell_type": "code",
      "source": [
        "data_ter.head(3)"
      ],
      "metadata": {
        "colab": {
          "base_uri": "https://localhost:8080/",
          "height": 254
        },
        "id": "ZYMW9FRKNM3C",
        "outputId": "ca07efa4-6bf3-4ae0-bdc8-137156867ebd"
      },
      "execution_count": 6,
      "outputs": [
        {
          "output_type": "execute_result",
          "data": {
            "text/plain": [
              "        eventid  iyear  imonth  iday approxdate  extended resolution  country  \\\n",
              "0  197000000001   1970       7     2        NaN         0        NaN       58   \n",
              "1  197000000002   1970       0     0        NaN         0        NaN      130   \n",
              "2  197001000001   1970       1     0        NaN         0        NaN      160   \n",
              "\n",
              "          country_txt  region  ... addnotes scite1 scite2  scite3  dbsource  \\\n",
              "0  Dominican Republic       2  ...      NaN    NaN    NaN     NaN      PGIS   \n",
              "1              Mexico       1  ...      NaN    NaN    NaN     NaN      PGIS   \n",
              "2         Philippines       5  ...      NaN    NaN    NaN     NaN      PGIS   \n",
              "\n",
              "   INT_LOG  INT_IDEO INT_MISC INT_ANY  related  \n",
              "0        0         0        0       0      NaN  \n",
              "1        0         1        1       1      NaN  \n",
              "2       -9        -9        1       1      NaN  \n",
              "\n",
              "[3 rows x 135 columns]"
            ],
            "text/html": [
              "\n",
              "  <div id=\"df-dd9df6e0-e9f4-4ef8-9b79-8b955752e572\">\n",
              "    <div class=\"colab-df-container\">\n",
              "      <div>\n",
              "<style scoped>\n",
              "    .dataframe tbody tr th:only-of-type {\n",
              "        vertical-align: middle;\n",
              "    }\n",
              "\n",
              "    .dataframe tbody tr th {\n",
              "        vertical-align: top;\n",
              "    }\n",
              "\n",
              "    .dataframe thead th {\n",
              "        text-align: right;\n",
              "    }\n",
              "</style>\n",
              "<table border=\"1\" class=\"dataframe\">\n",
              "  <thead>\n",
              "    <tr style=\"text-align: right;\">\n",
              "      <th></th>\n",
              "      <th>eventid</th>\n",
              "      <th>iyear</th>\n",
              "      <th>imonth</th>\n",
              "      <th>iday</th>\n",
              "      <th>approxdate</th>\n",
              "      <th>extended</th>\n",
              "      <th>resolution</th>\n",
              "      <th>country</th>\n",
              "      <th>country_txt</th>\n",
              "      <th>region</th>\n",
              "      <th>...</th>\n",
              "      <th>addnotes</th>\n",
              "      <th>scite1</th>\n",
              "      <th>scite2</th>\n",
              "      <th>scite3</th>\n",
              "      <th>dbsource</th>\n",
              "      <th>INT_LOG</th>\n",
              "      <th>INT_IDEO</th>\n",
              "      <th>INT_MISC</th>\n",
              "      <th>INT_ANY</th>\n",
              "      <th>related</th>\n",
              "    </tr>\n",
              "  </thead>\n",
              "  <tbody>\n",
              "    <tr>\n",
              "      <th>0</th>\n",
              "      <td>197000000001</td>\n",
              "      <td>1970</td>\n",
              "      <td>7</td>\n",
              "      <td>2</td>\n",
              "      <td>NaN</td>\n",
              "      <td>0</td>\n",
              "      <td>NaN</td>\n",
              "      <td>58</td>\n",
              "      <td>Dominican Republic</td>\n",
              "      <td>2</td>\n",
              "      <td>...</td>\n",
              "      <td>NaN</td>\n",
              "      <td>NaN</td>\n",
              "      <td>NaN</td>\n",
              "      <td>NaN</td>\n",
              "      <td>PGIS</td>\n",
              "      <td>0</td>\n",
              "      <td>0</td>\n",
              "      <td>0</td>\n",
              "      <td>0</td>\n",
              "      <td>NaN</td>\n",
              "    </tr>\n",
              "    <tr>\n",
              "      <th>1</th>\n",
              "      <td>197000000002</td>\n",
              "      <td>1970</td>\n",
              "      <td>0</td>\n",
              "      <td>0</td>\n",
              "      <td>NaN</td>\n",
              "      <td>0</td>\n",
              "      <td>NaN</td>\n",
              "      <td>130</td>\n",
              "      <td>Mexico</td>\n",
              "      <td>1</td>\n",
              "      <td>...</td>\n",
              "      <td>NaN</td>\n",
              "      <td>NaN</td>\n",
              "      <td>NaN</td>\n",
              "      <td>NaN</td>\n",
              "      <td>PGIS</td>\n",
              "      <td>0</td>\n",
              "      <td>1</td>\n",
              "      <td>1</td>\n",
              "      <td>1</td>\n",
              "      <td>NaN</td>\n",
              "    </tr>\n",
              "    <tr>\n",
              "      <th>2</th>\n",
              "      <td>197001000001</td>\n",
              "      <td>1970</td>\n",
              "      <td>1</td>\n",
              "      <td>0</td>\n",
              "      <td>NaN</td>\n",
              "      <td>0</td>\n",
              "      <td>NaN</td>\n",
              "      <td>160</td>\n",
              "      <td>Philippines</td>\n",
              "      <td>5</td>\n",
              "      <td>...</td>\n",
              "      <td>NaN</td>\n",
              "      <td>NaN</td>\n",
              "      <td>NaN</td>\n",
              "      <td>NaN</td>\n",
              "      <td>PGIS</td>\n",
              "      <td>-9</td>\n",
              "      <td>-9</td>\n",
              "      <td>1</td>\n",
              "      <td>1</td>\n",
              "      <td>NaN</td>\n",
              "    </tr>\n",
              "  </tbody>\n",
              "</table>\n",
              "<p>3 rows × 135 columns</p>\n",
              "</div>\n",
              "      <button class=\"colab-df-convert\" onclick=\"convertToInteractive('df-dd9df6e0-e9f4-4ef8-9b79-8b955752e572')\"\n",
              "              title=\"Convert this dataframe to an interactive table.\"\n",
              "              style=\"display:none;\">\n",
              "        \n",
              "  <svg xmlns=\"http://www.w3.org/2000/svg\" height=\"24px\"viewBox=\"0 0 24 24\"\n",
              "       width=\"24px\">\n",
              "    <path d=\"M0 0h24v24H0V0z\" fill=\"none\"/>\n",
              "    <path d=\"M18.56 5.44l.94 2.06.94-2.06 2.06-.94-2.06-.94-.94-2.06-.94 2.06-2.06.94zm-11 1L8.5 8.5l.94-2.06 2.06-.94-2.06-.94L8.5 2.5l-.94 2.06-2.06.94zm10 10l.94 2.06.94-2.06 2.06-.94-2.06-.94-.94-2.06-.94 2.06-2.06.94z\"/><path d=\"M17.41 7.96l-1.37-1.37c-.4-.4-.92-.59-1.43-.59-.52 0-1.04.2-1.43.59L10.3 9.45l-7.72 7.72c-.78.78-.78 2.05 0 2.83L4 21.41c.39.39.9.59 1.41.59.51 0 1.02-.2 1.41-.59l7.78-7.78 2.81-2.81c.8-.78.8-2.07 0-2.86zM5.41 20L4 18.59l7.72-7.72 1.47 1.35L5.41 20z\"/>\n",
              "  </svg>\n",
              "      </button>\n",
              "      \n",
              "  <style>\n",
              "    .colab-df-container {\n",
              "      display:flex;\n",
              "      flex-wrap:wrap;\n",
              "      gap: 12px;\n",
              "    }\n",
              "\n",
              "    .colab-df-convert {\n",
              "      background-color: #E8F0FE;\n",
              "      border: none;\n",
              "      border-radius: 50%;\n",
              "      cursor: pointer;\n",
              "      display: none;\n",
              "      fill: #1967D2;\n",
              "      height: 32px;\n",
              "      padding: 0 0 0 0;\n",
              "      width: 32px;\n",
              "    }\n",
              "\n",
              "    .colab-df-convert:hover {\n",
              "      background-color: #E2EBFA;\n",
              "      box-shadow: 0px 1px 2px rgba(60, 64, 67, 0.3), 0px 1px 3px 1px rgba(60, 64, 67, 0.15);\n",
              "      fill: #174EA6;\n",
              "    }\n",
              "\n",
              "    [theme=dark] .colab-df-convert {\n",
              "      background-color: #3B4455;\n",
              "      fill: #D2E3FC;\n",
              "    }\n",
              "\n",
              "    [theme=dark] .colab-df-convert:hover {\n",
              "      background-color: #434B5C;\n",
              "      box-shadow: 0px 1px 3px 1px rgba(0, 0, 0, 0.15);\n",
              "      filter: drop-shadow(0px 1px 2px rgba(0, 0, 0, 0.3));\n",
              "      fill: #FFFFFF;\n",
              "    }\n",
              "  </style>\n",
              "\n",
              "      <script>\n",
              "        const buttonEl =\n",
              "          document.querySelector('#df-dd9df6e0-e9f4-4ef8-9b79-8b955752e572 button.colab-df-convert');\n",
              "        buttonEl.style.display =\n",
              "          google.colab.kernel.accessAllowed ? 'block' : 'none';\n",
              "\n",
              "        async function convertToInteractive(key) {\n",
              "          const element = document.querySelector('#df-dd9df6e0-e9f4-4ef8-9b79-8b955752e572');\n",
              "          const dataTable =\n",
              "            await google.colab.kernel.invokeFunction('convertToInteractive',\n",
              "                                                     [key], {});\n",
              "          if (!dataTable) return;\n",
              "\n",
              "          const docLinkHtml = 'Like what you see? Visit the ' +\n",
              "            '<a target=\"_blank\" href=https://colab.research.google.com/notebooks/data_table.ipynb>data table notebook</a>'\n",
              "            + ' to learn more about interactive tables.';\n",
              "          element.innerHTML = '';\n",
              "          dataTable['output_type'] = 'display_data';\n",
              "          await google.colab.output.renderOutput(dataTable, element);\n",
              "          const docLink = document.createElement('div');\n",
              "          docLink.innerHTML = docLinkHtml;\n",
              "          element.appendChild(docLink);\n",
              "        }\n",
              "      </script>\n",
              "    </div>\n",
              "  </div>\n",
              "  "
            ]
          },
          "metadata": {},
          "execution_count": 6
        }
      ]
    },
    {
      "cell_type": "code",
      "source": [
        "data_ter.tail()"
      ],
      "metadata": {
        "colab": {
          "base_uri": "https://localhost:8080/",
          "height": 716
        },
        "id": "RVD1FV5qNiSP",
        "outputId": "a671f8ed-0d86-45c9-8275-30437a29ab90"
      },
      "execution_count": 7,
      "outputs": [
        {
          "output_type": "execute_result",
          "data": {
            "text/plain": [
              "             eventid  iyear  imonth  iday approxdate  extended resolution  \\\n",
              "181686  201712310022   2017      12    31        NaN         0        NaN   \n",
              "181687  201712310029   2017      12    31        NaN         0        NaN   \n",
              "181688  201712310030   2017      12    31        NaN         0        NaN   \n",
              "181689  201712310031   2017      12    31        NaN         0        NaN   \n",
              "181690  201712310032   2017      12    31        NaN         0        NaN   \n",
              "\n",
              "        country  country_txt  region  ... addnotes  \\\n",
              "181686      182      Somalia      11  ...      NaN   \n",
              "181687      200        Syria      10  ...      NaN   \n",
              "181688      160  Philippines       5  ...      NaN   \n",
              "181689       92        India       6  ...      NaN   \n",
              "181690      160  Philippines       5  ...      NaN   \n",
              "\n",
              "                                                   scite1  \\\n",
              "181686  \"Somalia: Al-Shabaab Militants Attack Army Che...   \n",
              "181687  \"Putin's 'victory' in Syria has turned into a ...   \n",
              "181688  \"Maguindanao clashes trap tribe members,\" Phil...   \n",
              "181689  \"Trader escapes grenade attack in Imphal,\" Bus...   \n",
              "181690  \"Security tightened in Cotabato following IED ...   \n",
              "\n",
              "                                                   scite2  \\\n",
              "181686  \"Highlights: Somalia Daily Media Highlights 2 ...   \n",
              "181687  \"Two Russian soldiers killed at Hmeymim base i...   \n",
              "181688                                                NaN   \n",
              "181689                                                NaN   \n",
              "181690  \"Security tightened in Cotabato City,\" Manila ...   \n",
              "\n",
              "                                                   scite3  \\\n",
              "181686  \"Highlights: Somalia Daily Media Highlights 1 ...   \n",
              "181687  \"Two Russian servicemen killed in Syria mortar...   \n",
              "181688                                                NaN   \n",
              "181689                                                NaN   \n",
              "181690                                                NaN   \n",
              "\n",
              "                        dbsource  INT_LOG  INT_IDEO INT_MISC INT_ANY  related  \n",
              "181686  START Primary Collection        0         0        0       0      NaN  \n",
              "181687  START Primary Collection       -9        -9        1       1      NaN  \n",
              "181688  START Primary Collection        0         0        0       0      NaN  \n",
              "181689  START Primary Collection       -9        -9        0      -9      NaN  \n",
              "181690  START Primary Collection       -9        -9        0      -9      NaN  \n",
              "\n",
              "[5 rows x 135 columns]"
            ],
            "text/html": [
              "\n",
              "  <div id=\"df-4b444862-697f-4a65-93a2-baa62ff10ebc\">\n",
              "    <div class=\"colab-df-container\">\n",
              "      <div>\n",
              "<style scoped>\n",
              "    .dataframe tbody tr th:only-of-type {\n",
              "        vertical-align: middle;\n",
              "    }\n",
              "\n",
              "    .dataframe tbody tr th {\n",
              "        vertical-align: top;\n",
              "    }\n",
              "\n",
              "    .dataframe thead th {\n",
              "        text-align: right;\n",
              "    }\n",
              "</style>\n",
              "<table border=\"1\" class=\"dataframe\">\n",
              "  <thead>\n",
              "    <tr style=\"text-align: right;\">\n",
              "      <th></th>\n",
              "      <th>eventid</th>\n",
              "      <th>iyear</th>\n",
              "      <th>imonth</th>\n",
              "      <th>iday</th>\n",
              "      <th>approxdate</th>\n",
              "      <th>extended</th>\n",
              "      <th>resolution</th>\n",
              "      <th>country</th>\n",
              "      <th>country_txt</th>\n",
              "      <th>region</th>\n",
              "      <th>...</th>\n",
              "      <th>addnotes</th>\n",
              "      <th>scite1</th>\n",
              "      <th>scite2</th>\n",
              "      <th>scite3</th>\n",
              "      <th>dbsource</th>\n",
              "      <th>INT_LOG</th>\n",
              "      <th>INT_IDEO</th>\n",
              "      <th>INT_MISC</th>\n",
              "      <th>INT_ANY</th>\n",
              "      <th>related</th>\n",
              "    </tr>\n",
              "  </thead>\n",
              "  <tbody>\n",
              "    <tr>\n",
              "      <th>181686</th>\n",
              "      <td>201712310022</td>\n",
              "      <td>2017</td>\n",
              "      <td>12</td>\n",
              "      <td>31</td>\n",
              "      <td>NaN</td>\n",
              "      <td>0</td>\n",
              "      <td>NaN</td>\n",
              "      <td>182</td>\n",
              "      <td>Somalia</td>\n",
              "      <td>11</td>\n",
              "      <td>...</td>\n",
              "      <td>NaN</td>\n",
              "      <td>\"Somalia: Al-Shabaab Militants Attack Army Che...</td>\n",
              "      <td>\"Highlights: Somalia Daily Media Highlights 2 ...</td>\n",
              "      <td>\"Highlights: Somalia Daily Media Highlights 1 ...</td>\n",
              "      <td>START Primary Collection</td>\n",
              "      <td>0</td>\n",
              "      <td>0</td>\n",
              "      <td>0</td>\n",
              "      <td>0</td>\n",
              "      <td>NaN</td>\n",
              "    </tr>\n",
              "    <tr>\n",
              "      <th>181687</th>\n",
              "      <td>201712310029</td>\n",
              "      <td>2017</td>\n",
              "      <td>12</td>\n",
              "      <td>31</td>\n",
              "      <td>NaN</td>\n",
              "      <td>0</td>\n",
              "      <td>NaN</td>\n",
              "      <td>200</td>\n",
              "      <td>Syria</td>\n",
              "      <td>10</td>\n",
              "      <td>...</td>\n",
              "      <td>NaN</td>\n",
              "      <td>\"Putin's 'victory' in Syria has turned into a ...</td>\n",
              "      <td>\"Two Russian soldiers killed at Hmeymim base i...</td>\n",
              "      <td>\"Two Russian servicemen killed in Syria mortar...</td>\n",
              "      <td>START Primary Collection</td>\n",
              "      <td>-9</td>\n",
              "      <td>-9</td>\n",
              "      <td>1</td>\n",
              "      <td>1</td>\n",
              "      <td>NaN</td>\n",
              "    </tr>\n",
              "    <tr>\n",
              "      <th>181688</th>\n",
              "      <td>201712310030</td>\n",
              "      <td>2017</td>\n",
              "      <td>12</td>\n",
              "      <td>31</td>\n",
              "      <td>NaN</td>\n",
              "      <td>0</td>\n",
              "      <td>NaN</td>\n",
              "      <td>160</td>\n",
              "      <td>Philippines</td>\n",
              "      <td>5</td>\n",
              "      <td>...</td>\n",
              "      <td>NaN</td>\n",
              "      <td>\"Maguindanao clashes trap tribe members,\" Phil...</td>\n",
              "      <td>NaN</td>\n",
              "      <td>NaN</td>\n",
              "      <td>START Primary Collection</td>\n",
              "      <td>0</td>\n",
              "      <td>0</td>\n",
              "      <td>0</td>\n",
              "      <td>0</td>\n",
              "      <td>NaN</td>\n",
              "    </tr>\n",
              "    <tr>\n",
              "      <th>181689</th>\n",
              "      <td>201712310031</td>\n",
              "      <td>2017</td>\n",
              "      <td>12</td>\n",
              "      <td>31</td>\n",
              "      <td>NaN</td>\n",
              "      <td>0</td>\n",
              "      <td>NaN</td>\n",
              "      <td>92</td>\n",
              "      <td>India</td>\n",
              "      <td>6</td>\n",
              "      <td>...</td>\n",
              "      <td>NaN</td>\n",
              "      <td>\"Trader escapes grenade attack in Imphal,\" Bus...</td>\n",
              "      <td>NaN</td>\n",
              "      <td>NaN</td>\n",
              "      <td>START Primary Collection</td>\n",
              "      <td>-9</td>\n",
              "      <td>-9</td>\n",
              "      <td>0</td>\n",
              "      <td>-9</td>\n",
              "      <td>NaN</td>\n",
              "    </tr>\n",
              "    <tr>\n",
              "      <th>181690</th>\n",
              "      <td>201712310032</td>\n",
              "      <td>2017</td>\n",
              "      <td>12</td>\n",
              "      <td>31</td>\n",
              "      <td>NaN</td>\n",
              "      <td>0</td>\n",
              "      <td>NaN</td>\n",
              "      <td>160</td>\n",
              "      <td>Philippines</td>\n",
              "      <td>5</td>\n",
              "      <td>...</td>\n",
              "      <td>NaN</td>\n",
              "      <td>\"Security tightened in Cotabato following IED ...</td>\n",
              "      <td>\"Security tightened in Cotabato City,\" Manila ...</td>\n",
              "      <td>NaN</td>\n",
              "      <td>START Primary Collection</td>\n",
              "      <td>-9</td>\n",
              "      <td>-9</td>\n",
              "      <td>0</td>\n",
              "      <td>-9</td>\n",
              "      <td>NaN</td>\n",
              "    </tr>\n",
              "  </tbody>\n",
              "</table>\n",
              "<p>5 rows × 135 columns</p>\n",
              "</div>\n",
              "      <button class=\"colab-df-convert\" onclick=\"convertToInteractive('df-4b444862-697f-4a65-93a2-baa62ff10ebc')\"\n",
              "              title=\"Convert this dataframe to an interactive table.\"\n",
              "              style=\"display:none;\">\n",
              "        \n",
              "  <svg xmlns=\"http://www.w3.org/2000/svg\" height=\"24px\"viewBox=\"0 0 24 24\"\n",
              "       width=\"24px\">\n",
              "    <path d=\"M0 0h24v24H0V0z\" fill=\"none\"/>\n",
              "    <path d=\"M18.56 5.44l.94 2.06.94-2.06 2.06-.94-2.06-.94-.94-2.06-.94 2.06-2.06.94zm-11 1L8.5 8.5l.94-2.06 2.06-.94-2.06-.94L8.5 2.5l-.94 2.06-2.06.94zm10 10l.94 2.06.94-2.06 2.06-.94-2.06-.94-.94-2.06-.94 2.06-2.06.94z\"/><path d=\"M17.41 7.96l-1.37-1.37c-.4-.4-.92-.59-1.43-.59-.52 0-1.04.2-1.43.59L10.3 9.45l-7.72 7.72c-.78.78-.78 2.05 0 2.83L4 21.41c.39.39.9.59 1.41.59.51 0 1.02-.2 1.41-.59l7.78-7.78 2.81-2.81c.8-.78.8-2.07 0-2.86zM5.41 20L4 18.59l7.72-7.72 1.47 1.35L5.41 20z\"/>\n",
              "  </svg>\n",
              "      </button>\n",
              "      \n",
              "  <style>\n",
              "    .colab-df-container {\n",
              "      display:flex;\n",
              "      flex-wrap:wrap;\n",
              "      gap: 12px;\n",
              "    }\n",
              "\n",
              "    .colab-df-convert {\n",
              "      background-color: #E8F0FE;\n",
              "      border: none;\n",
              "      border-radius: 50%;\n",
              "      cursor: pointer;\n",
              "      display: none;\n",
              "      fill: #1967D2;\n",
              "      height: 32px;\n",
              "      padding: 0 0 0 0;\n",
              "      width: 32px;\n",
              "    }\n",
              "\n",
              "    .colab-df-convert:hover {\n",
              "      background-color: #E2EBFA;\n",
              "      box-shadow: 0px 1px 2px rgba(60, 64, 67, 0.3), 0px 1px 3px 1px rgba(60, 64, 67, 0.15);\n",
              "      fill: #174EA6;\n",
              "    }\n",
              "\n",
              "    [theme=dark] .colab-df-convert {\n",
              "      background-color: #3B4455;\n",
              "      fill: #D2E3FC;\n",
              "    }\n",
              "\n",
              "    [theme=dark] .colab-df-convert:hover {\n",
              "      background-color: #434B5C;\n",
              "      box-shadow: 0px 1px 3px 1px rgba(0, 0, 0, 0.15);\n",
              "      filter: drop-shadow(0px 1px 2px rgba(0, 0, 0, 0.3));\n",
              "      fill: #FFFFFF;\n",
              "    }\n",
              "  </style>\n",
              "\n",
              "      <script>\n",
              "        const buttonEl =\n",
              "          document.querySelector('#df-4b444862-697f-4a65-93a2-baa62ff10ebc button.colab-df-convert');\n",
              "        buttonEl.style.display =\n",
              "          google.colab.kernel.accessAllowed ? 'block' : 'none';\n",
              "\n",
              "        async function convertToInteractive(key) {\n",
              "          const element = document.querySelector('#df-4b444862-697f-4a65-93a2-baa62ff10ebc');\n",
              "          const dataTable =\n",
              "            await google.colab.kernel.invokeFunction('convertToInteractive',\n",
              "                                                     [key], {});\n",
              "          if (!dataTable) return;\n",
              "\n",
              "          const docLinkHtml = 'Like what you see? Visit the ' +\n",
              "            '<a target=\"_blank\" href=https://colab.research.google.com/notebooks/data_table.ipynb>data table notebook</a>'\n",
              "            + ' to learn more about interactive tables.';\n",
              "          element.innerHTML = '';\n",
              "          dataTable['output_type'] = 'display_data';\n",
              "          await google.colab.output.renderOutput(dataTable, element);\n",
              "          const docLink = document.createElement('div');\n",
              "          docLink.innerHTML = docLinkHtml;\n",
              "          element.appendChild(docLink);\n",
              "        }\n",
              "      </script>\n",
              "    </div>\n",
              "  </div>\n",
              "  "
            ]
          },
          "metadata": {},
          "execution_count": 7
        }
      ]
    },
    {
      "cell_type": "markdown",
      "source": [
        "## **2.Understanding the Variables**"
      ],
      "metadata": {
        "id": "EQImnN4eaeKJ"
      }
    },
    {
      "cell_type": "markdown",
      "source": [
        "###Dataset Information"
      ],
      "metadata": {
        "id": "JlHwYmJAmNHm"
      }
    },
    {
      "cell_type": "code",
      "source": [
        "data_ter.info()"
      ],
      "metadata": {
        "colab": {
          "base_uri": "https://localhost:8080/"
        },
        "id": "Zl37uQcsN1xd",
        "outputId": "9f8ddb8f-1926-4d23-c692-efb128b922db"
      },
      "execution_count": 8,
      "outputs": [
        {
          "output_type": "stream",
          "name": "stdout",
          "text": [
            "<class 'pandas.core.frame.DataFrame'>\n",
            "RangeIndex: 181691 entries, 0 to 181690\n",
            "Columns: 135 entries, eventid to related\n",
            "dtypes: float64(55), int64(22), object(58)\n",
            "memory usage: 187.1+ MB\n"
          ]
        }
      ]
    },
    {
      "cell_type": "code",
      "source": [
        "data_ter.columns"
      ],
      "metadata": {
        "colab": {
          "base_uri": "https://localhost:8080/"
        },
        "id": "tarxrEvjP2IL",
        "outputId": "00700883-5d7a-4d1f-d38d-4b3ad1d20dec"
      },
      "execution_count": 9,
      "outputs": [
        {
          "output_type": "execute_result",
          "data": {
            "text/plain": [
              "Index(['eventid', 'iyear', 'imonth', 'iday', 'approxdate', 'extended',\n",
              "       'resolution', 'country', 'country_txt', 'region',\n",
              "       ...\n",
              "       'addnotes', 'scite1', 'scite2', 'scite3', 'dbsource', 'INT_LOG',\n",
              "       'INT_IDEO', 'INT_MISC', 'INT_ANY', 'related'],\n",
              "      dtype='object', length=135)"
            ]
          },
          "metadata": {},
          "execution_count": 9
        }
      ]
    },
    {
      "cell_type": "markdown",
      "source": [
        "### Number of Duplicate Values in the Dataset"
      ],
      "metadata": {
        "id": "Vmpt6t03cXbZ"
      }
    },
    {
      "cell_type": "code",
      "source": [
        "# Duplicate Values/Duplicate Values Count\n",
        "data_ter.duplicated().sum()"
      ],
      "metadata": {
        "id": "SHbTscxbdYlZ",
        "colab": {
          "base_uri": "https://localhost:8080/"
        },
        "outputId": "665b7341-8e88-40d2-d01c-7053276caf47"
      },
      "execution_count": 10,
      "outputs": [
        {
          "output_type": "execute_result",
          "data": {
            "text/plain": [
              "0"
            ]
          },
          "metadata": {},
          "execution_count": 10
        }
      ]
    },
    {
      "cell_type": "markdown",
      "source": [
        "### Null Values in the Dataset"
      ],
      "metadata": {
        "id": "hu7zFY17cDxL"
      }
    },
    {
      "cell_type": "code",
      "source": [
        "# Missing Values/Null Values Count\n",
        "pd.DataFrame(data_ter.isna().sum()).T"
      ],
      "metadata": {
        "id": "y0ys0IXoR-kL",
        "colab": {
          "base_uri": "https://localhost:8080/",
          "height": 174
        },
        "outputId": "15fe6187-0cfe-443b-845d-2a07b6069014"
      },
      "execution_count": 11,
      "outputs": [
        {
          "output_type": "execute_result",
          "data": {
            "text/plain": [
              "   eventid  iyear  imonth  iday  approxdate  extended  resolution  country  \\\n",
              "0        0      0       0     0      172452         0      179471        0   \n",
              "\n",
              "   country_txt  region  ...  addnotes  scite1  scite2  scite3  dbsource  \\\n",
              "0            0       0  ...    153402   66191  104758  138175         0   \n",
              "\n",
              "   INT_LOG  INT_IDEO  INT_MISC  INT_ANY  related  \n",
              "0        0         0         0        0   156653  \n",
              "\n",
              "[1 rows x 135 columns]"
            ],
            "text/html": [
              "\n",
              "  <div id=\"df-1e8a086b-6a07-402a-b0c8-8ca482691b11\">\n",
              "    <div class=\"colab-df-container\">\n",
              "      <div>\n",
              "<style scoped>\n",
              "    .dataframe tbody tr th:only-of-type {\n",
              "        vertical-align: middle;\n",
              "    }\n",
              "\n",
              "    .dataframe tbody tr th {\n",
              "        vertical-align: top;\n",
              "    }\n",
              "\n",
              "    .dataframe thead th {\n",
              "        text-align: right;\n",
              "    }\n",
              "</style>\n",
              "<table border=\"1\" class=\"dataframe\">\n",
              "  <thead>\n",
              "    <tr style=\"text-align: right;\">\n",
              "      <th></th>\n",
              "      <th>eventid</th>\n",
              "      <th>iyear</th>\n",
              "      <th>imonth</th>\n",
              "      <th>iday</th>\n",
              "      <th>approxdate</th>\n",
              "      <th>extended</th>\n",
              "      <th>resolution</th>\n",
              "      <th>country</th>\n",
              "      <th>country_txt</th>\n",
              "      <th>region</th>\n",
              "      <th>...</th>\n",
              "      <th>addnotes</th>\n",
              "      <th>scite1</th>\n",
              "      <th>scite2</th>\n",
              "      <th>scite3</th>\n",
              "      <th>dbsource</th>\n",
              "      <th>INT_LOG</th>\n",
              "      <th>INT_IDEO</th>\n",
              "      <th>INT_MISC</th>\n",
              "      <th>INT_ANY</th>\n",
              "      <th>related</th>\n",
              "    </tr>\n",
              "  </thead>\n",
              "  <tbody>\n",
              "    <tr>\n",
              "      <th>0</th>\n",
              "      <td>0</td>\n",
              "      <td>0</td>\n",
              "      <td>0</td>\n",
              "      <td>0</td>\n",
              "      <td>172452</td>\n",
              "      <td>0</td>\n",
              "      <td>179471</td>\n",
              "      <td>0</td>\n",
              "      <td>0</td>\n",
              "      <td>0</td>\n",
              "      <td>...</td>\n",
              "      <td>153402</td>\n",
              "      <td>66191</td>\n",
              "      <td>104758</td>\n",
              "      <td>138175</td>\n",
              "      <td>0</td>\n",
              "      <td>0</td>\n",
              "      <td>0</td>\n",
              "      <td>0</td>\n",
              "      <td>0</td>\n",
              "      <td>156653</td>\n",
              "    </tr>\n",
              "  </tbody>\n",
              "</table>\n",
              "<p>1 rows × 135 columns</p>\n",
              "</div>\n",
              "      <button class=\"colab-df-convert\" onclick=\"convertToInteractive('df-1e8a086b-6a07-402a-b0c8-8ca482691b11')\"\n",
              "              title=\"Convert this dataframe to an interactive table.\"\n",
              "              style=\"display:none;\">\n",
              "        \n",
              "  <svg xmlns=\"http://www.w3.org/2000/svg\" height=\"24px\"viewBox=\"0 0 24 24\"\n",
              "       width=\"24px\">\n",
              "    <path d=\"M0 0h24v24H0V0z\" fill=\"none\"/>\n",
              "    <path d=\"M18.56 5.44l.94 2.06.94-2.06 2.06-.94-2.06-.94-.94-2.06-.94 2.06-2.06.94zm-11 1L8.5 8.5l.94-2.06 2.06-.94-2.06-.94L8.5 2.5l-.94 2.06-2.06.94zm10 10l.94 2.06.94-2.06 2.06-.94-2.06-.94-.94-2.06-.94 2.06-2.06.94z\"/><path d=\"M17.41 7.96l-1.37-1.37c-.4-.4-.92-.59-1.43-.59-.52 0-1.04.2-1.43.59L10.3 9.45l-7.72 7.72c-.78.78-.78 2.05 0 2.83L4 21.41c.39.39.9.59 1.41.59.51 0 1.02-.2 1.41-.59l7.78-7.78 2.81-2.81c.8-.78.8-2.07 0-2.86zM5.41 20L4 18.59l7.72-7.72 1.47 1.35L5.41 20z\"/>\n",
              "  </svg>\n",
              "      </button>\n",
              "      \n",
              "  <style>\n",
              "    .colab-df-container {\n",
              "      display:flex;\n",
              "      flex-wrap:wrap;\n",
              "      gap: 12px;\n",
              "    }\n",
              "\n",
              "    .colab-df-convert {\n",
              "      background-color: #E8F0FE;\n",
              "      border: none;\n",
              "      border-radius: 50%;\n",
              "      cursor: pointer;\n",
              "      display: none;\n",
              "      fill: #1967D2;\n",
              "      height: 32px;\n",
              "      padding: 0 0 0 0;\n",
              "      width: 32px;\n",
              "    }\n",
              "\n",
              "    .colab-df-convert:hover {\n",
              "      background-color: #E2EBFA;\n",
              "      box-shadow: 0px 1px 2px rgba(60, 64, 67, 0.3), 0px 1px 3px 1px rgba(60, 64, 67, 0.15);\n",
              "      fill: #174EA6;\n",
              "    }\n",
              "\n",
              "    [theme=dark] .colab-df-convert {\n",
              "      background-color: #3B4455;\n",
              "      fill: #D2E3FC;\n",
              "    }\n",
              "\n",
              "    [theme=dark] .colab-df-convert:hover {\n",
              "      background-color: #434B5C;\n",
              "      box-shadow: 0px 1px 3px 1px rgba(0, 0, 0, 0.15);\n",
              "      filter: drop-shadow(0px 1px 2px rgba(0, 0, 0, 0.3));\n",
              "      fill: #FFFFFF;\n",
              "    }\n",
              "  </style>\n",
              "\n",
              "      <script>\n",
              "        const buttonEl =\n",
              "          document.querySelector('#df-1e8a086b-6a07-402a-b0c8-8ca482691b11 button.colab-df-convert');\n",
              "        buttonEl.style.display =\n",
              "          google.colab.kernel.accessAllowed ? 'block' : 'none';\n",
              "\n",
              "        async function convertToInteractive(key) {\n",
              "          const element = document.querySelector('#df-1e8a086b-6a07-402a-b0c8-8ca482691b11');\n",
              "          const dataTable =\n",
              "            await google.colab.kernel.invokeFunction('convertToInteractive',\n",
              "                                                     [key], {});\n",
              "          if (!dataTable) return;\n",
              "\n",
              "          const docLinkHtml = 'Like what you see? Visit the ' +\n",
              "            '<a target=\"_blank\" href=https://colab.research.google.com/notebooks/data_table.ipynb>data table notebook</a>'\n",
              "            + ' to learn more about interactive tables.';\n",
              "          element.innerHTML = '';\n",
              "          dataTable['output_type'] = 'display_data';\n",
              "          await google.colab.output.renderOutput(dataTable, element);\n",
              "          const docLink = document.createElement('div');\n",
              "          docLink.innerHTML = docLinkHtml;\n",
              "          element.appendChild(docLink);\n",
              "        }\n",
              "      </script>\n",
              "    </div>\n",
              "  </div>\n",
              "  "
            ]
          },
          "metadata": {},
          "execution_count": 11
        }
      ]
    },
    {
      "cell_type": "markdown",
      "source": [
        "###Total Number of Null Values"
      ],
      "metadata": {
        "id": "HTjhsd__ft8M"
      }
    },
    {
      "cell_type": "code",
      "source": [
        "# Counting Total Number of Null Values\n",
        "print('Total number of null values = ',data_ter.isnull().sum().sum())"
      ],
      "metadata": {
        "id": "EmIxt7ELbheP",
        "colab": {
          "base_uri": "https://localhost:8080/"
        },
        "outputId": "f10ba4bb-5e34-4abd-e468-f19694d300ce"
      },
      "execution_count": 12,
      "outputs": [
        {
          "output_type": "stream",
          "name": "stdout",
          "text": [
            "Total number of null values =  13853997\n"
          ]
        }
      ]
    },
    {
      "cell_type": "markdown",
      "source": [
        "###Checking Columns with more then 50% null values"
      ],
      "metadata": {
        "id": "Oo3g5OUrq1Cn"
      }
    },
    {
      "cell_type": "code",
      "source": [
        "# Calculating the percentage of null values in each column\n",
        "null_percentages = data_ter.isnull().sum() / len(data_ter)\n",
        "\n",
        "# Filtering columns with more than 50% null values\n",
        "null_columns = null_percentages[null_percentages > 0.5].index.tolist()\n",
        "\n",
        "# Printing the columns with more than 50% null values\n",
        "print(null_columns)\n"
      ],
      "metadata": {
        "colab": {
          "base_uri": "https://localhost:8080/"
        },
        "id": "8zimSaOSfV-3",
        "outputId": "7e55b0f4-fa6a-4183-fb13-b9bf879754b7"
      },
      "execution_count": 13,
      "outputs": [
        {
          "output_type": "stream",
          "name": "stdout",
          "text": [
            "['approxdate', 'resolution', 'location', 'alternative', 'alternative_txt', 'attacktype2', 'attacktype2_txt', 'attacktype3', 'attacktype3_txt', 'targtype2', 'targtype2_txt', 'targsubtype2', 'targsubtype2_txt', 'corp2', 'target2', 'natlty2', 'natlty2_txt', 'targtype3', 'targtype3_txt', 'targsubtype3', 'targsubtype3_txt', 'corp3', 'target3', 'natlty3', 'natlty3_txt', 'gsubname', 'gname2', 'gsubname2', 'gname3', 'gsubname3', 'motive', 'guncertain2', 'guncertain3', 'claimmode', 'claimmode_txt', 'claim2', 'claimmode2', 'claimmode2_txt', 'claim3', 'claimmode3', 'claimmode3_txt', 'compclaim', 'weaptype2', 'weaptype2_txt', 'weapsubtype2', 'weapsubtype2_txt', 'weaptype3', 'weaptype3_txt', 'weapsubtype3', 'weapsubtype3_txt', 'weaptype4', 'weaptype4_txt', 'weapsubtype4', 'weapsubtype4_txt', 'propextent', 'propextent_txt', 'propvalue', 'propcomment', 'nhostkid', 'nhostkidus', 'nhours', 'ndays', 'divert', 'kidhijcountry', 'ransom', 'ransomamt', 'ransomamtus', 'ransompaid', 'ransompaidus', 'ransomnote', 'hostkidoutcome', 'hostkidoutcome_txt', 'nreleased', 'addnotes', 'scite2', 'scite3', 'related']\n"
          ]
        }
      ]
    },
    {
      "cell_type": "markdown",
      "source": [
        "###Correlation Matrix"
      ],
      "metadata": {
        "id": "gsMQRyc7rUuO"
      }
    },
    {
      "cell_type": "code",
      "source": [
        "# calculating the correlation matrix\n",
        "corr_matrix = data_ter.corr()\n",
        "\n",
        "# printing the correlation matrix\n",
        "print(corr_matrix)"
      ],
      "metadata": {
        "colab": {
          "base_uri": "https://localhost:8080/"
        },
        "id": "Ti53GDx4qdnf",
        "outputId": "fa7616a1-4eb6-4c81-d9e1-64914ac25198"
      },
      "execution_count": 14,
      "outputs": [
        {
          "output_type": "stream",
          "name": "stdout",
          "text": [
            "            eventid     iyear    imonth      iday  extended   country  \\\n",
            "eventid    1.000000  0.999996  0.002706  0.018336  0.091761 -0.135039   \n",
            "iyear      0.999996  1.000000  0.000139  0.018254  0.091754 -0.135023   \n",
            "imonth     0.002706  0.000139  1.000000  0.005497 -0.000468 -0.006305   \n",
            "iday       0.018336  0.018254  0.005497  1.000000 -0.004700  0.003468   \n",
            "extended   0.091761  0.091754 -0.000468 -0.004700  1.000000 -0.020466   \n",
            "...             ...       ...       ...       ...       ...       ...   \n",
            "nreleased -0.181612 -0.181556 -0.011535  0.001765 -0.192155 -0.044331   \n",
            "INT_LOG   -0.143600 -0.143601 -0.002302 -0.001540  0.071768  0.069904   \n",
            "INT_IDEO  -0.133252 -0.133253 -0.002034 -0.001621  0.075147  0.067564   \n",
            "INT_MISC  -0.077852 -0.077847 -0.002554 -0.002027  0.027335  0.207281   \n",
            "INT_ANY   -0.175605 -0.175596 -0.006336 -0.001199  0.080767  0.153118   \n",
            "\n",
            "             region  latitude  longitude  specificity  ...  ransomamt  \\\n",
            "eventid    0.401371  0.166886   0.003907     0.030641  ...  -0.009990   \n",
            "iyear      0.401384  0.166933   0.003917     0.030626  ...  -0.009984   \n",
            "imonth    -0.002999 -0.015978  -0.003880     0.003621  ...  -0.000710   \n",
            "iday       0.009710  0.003423  -0.002285    -0.006991  ...   0.012755   \n",
            "extended   0.038389 -0.024749   0.000523     0.057897  ...  -0.008114   \n",
            "...             ...       ...        ...          ...  ...        ...   \n",
            "nreleased -0.149511  0.002790  -0.017745    -0.030631  ...   0.054571   \n",
            "INT_LOG   -0.082584 -0.099827   0.002272     0.073022  ...   0.035821   \n",
            "INT_IDEO  -0.071917 -0.094470   0.002268     0.071333  ...   0.039053   \n",
            "INT_MISC   0.043139  0.097652   0.000371    -0.019197  ...   0.023815   \n",
            "INT_ANY   -0.047900 -0.041530   0.002497     0.061389  ...   0.028054   \n",
            "\n",
            "           ransomamtus  ransompaid  ransompaidus  hostkidoutcome  nreleased  \\\n",
            "eventid      -0.018001   -0.014094     -0.165422        0.256113  -0.181612   \n",
            "iyear        -0.018216   -0.014238     -0.165375        0.256092  -0.181556   \n",
            "imonth        0.046989    0.058878     -0.016597        0.011295  -0.011535   \n",
            "iday         -0.010502    0.003148     -0.006581       -0.006706   0.001765   \n",
            "extended      0.028177    0.001966      0.009367        0.233293  -0.192155   \n",
            "...                ...         ...           ...             ...        ...   \n",
            "nreleased     0.034843    0.049322      0.016832       -0.555478   1.000000   \n",
            "INT_LOG       0.031079    0.007029     -0.045504       -0.015442   0.039388   \n",
            "INT_IDEO      0.041983    0.013162     -0.039844       -0.016234   0.040947   \n",
            "INT_MISC      0.125162    0.037227      0.129274       -0.119776   0.085055   \n",
            "INT_ANY       0.053484    0.007275      0.056438       -0.061946   0.064759   \n",
            "\n",
            "            INT_LOG  INT_IDEO  INT_MISC   INT_ANY  \n",
            "eventid   -0.143600 -0.133252 -0.077852 -0.175605  \n",
            "iyear     -0.143601 -0.133253 -0.077847 -0.175596  \n",
            "imonth    -0.002302 -0.002034 -0.002554 -0.006336  \n",
            "iday      -0.001540 -0.001621 -0.002027 -0.001199  \n",
            "extended   0.071768  0.075147  0.027335  0.080767  \n",
            "...             ...       ...       ...       ...  \n",
            "nreleased  0.039388  0.040947  0.085055  0.064759  \n",
            "INT_LOG    1.000000  0.996211  0.052537  0.891051  \n",
            "INT_IDEO   0.996211  1.000000  0.082014  0.893811  \n",
            "INT_MISC   0.052537  0.082014  1.000000  0.252193  \n",
            "INT_ANY    0.891051  0.893811  0.252193  1.000000  \n",
            "\n",
            "[77 rows x 77 columns]\n"
          ]
        }
      ]
    },
    {
      "cell_type": "markdown",
      "source": [
        "###**3.Pre-Processing and Cleaning of Data**"
      ],
      "metadata": {
        "id": "yUWPrr-td-Nw"
      }
    },
    {
      "cell_type": "markdown",
      "source": [
        "###Dropping any column in the DataFrame df that contains all missing values (i.e., NaN)."
      ],
      "metadata": {
        "id": "PL0CdNu0ExG9"
      }
    },
    {
      "cell_type": "code",
      "source": [
        "data_ter.dropna(axis=1,how='all')\n",
        "data_ter.head(2)"
      ],
      "metadata": {
        "colab": {
          "base_uri": "https://localhost:8080/",
          "height": 222
        },
        "id": "QMwAoxB6DS_1",
        "outputId": "97e04c33-c2e7-46d1-c779-acabec0edb42"
      },
      "execution_count": 15,
      "outputs": [
        {
          "output_type": "execute_result",
          "data": {
            "text/plain": [
              "        eventid  iyear  imonth  iday approxdate  extended resolution  country  \\\n",
              "0  197000000001   1970       7     2        NaN         0        NaN       58   \n",
              "1  197000000002   1970       0     0        NaN         0        NaN      130   \n",
              "\n",
              "          country_txt  region  ... addnotes scite1 scite2  scite3  dbsource  \\\n",
              "0  Dominican Republic       2  ...      NaN    NaN    NaN     NaN      PGIS   \n",
              "1              Mexico       1  ...      NaN    NaN    NaN     NaN      PGIS   \n",
              "\n",
              "   INT_LOG  INT_IDEO INT_MISC INT_ANY  related  \n",
              "0        0         0        0       0      NaN  \n",
              "1        0         1        1       1      NaN  \n",
              "\n",
              "[2 rows x 135 columns]"
            ],
            "text/html": [
              "\n",
              "  <div id=\"df-4793c66f-4325-4d8f-9d93-52317c2a989c\">\n",
              "    <div class=\"colab-df-container\">\n",
              "      <div>\n",
              "<style scoped>\n",
              "    .dataframe tbody tr th:only-of-type {\n",
              "        vertical-align: middle;\n",
              "    }\n",
              "\n",
              "    .dataframe tbody tr th {\n",
              "        vertical-align: top;\n",
              "    }\n",
              "\n",
              "    .dataframe thead th {\n",
              "        text-align: right;\n",
              "    }\n",
              "</style>\n",
              "<table border=\"1\" class=\"dataframe\">\n",
              "  <thead>\n",
              "    <tr style=\"text-align: right;\">\n",
              "      <th></th>\n",
              "      <th>eventid</th>\n",
              "      <th>iyear</th>\n",
              "      <th>imonth</th>\n",
              "      <th>iday</th>\n",
              "      <th>approxdate</th>\n",
              "      <th>extended</th>\n",
              "      <th>resolution</th>\n",
              "      <th>country</th>\n",
              "      <th>country_txt</th>\n",
              "      <th>region</th>\n",
              "      <th>...</th>\n",
              "      <th>addnotes</th>\n",
              "      <th>scite1</th>\n",
              "      <th>scite2</th>\n",
              "      <th>scite3</th>\n",
              "      <th>dbsource</th>\n",
              "      <th>INT_LOG</th>\n",
              "      <th>INT_IDEO</th>\n",
              "      <th>INT_MISC</th>\n",
              "      <th>INT_ANY</th>\n",
              "      <th>related</th>\n",
              "    </tr>\n",
              "  </thead>\n",
              "  <tbody>\n",
              "    <tr>\n",
              "      <th>0</th>\n",
              "      <td>197000000001</td>\n",
              "      <td>1970</td>\n",
              "      <td>7</td>\n",
              "      <td>2</td>\n",
              "      <td>NaN</td>\n",
              "      <td>0</td>\n",
              "      <td>NaN</td>\n",
              "      <td>58</td>\n",
              "      <td>Dominican Republic</td>\n",
              "      <td>2</td>\n",
              "      <td>...</td>\n",
              "      <td>NaN</td>\n",
              "      <td>NaN</td>\n",
              "      <td>NaN</td>\n",
              "      <td>NaN</td>\n",
              "      <td>PGIS</td>\n",
              "      <td>0</td>\n",
              "      <td>0</td>\n",
              "      <td>0</td>\n",
              "      <td>0</td>\n",
              "      <td>NaN</td>\n",
              "    </tr>\n",
              "    <tr>\n",
              "      <th>1</th>\n",
              "      <td>197000000002</td>\n",
              "      <td>1970</td>\n",
              "      <td>0</td>\n",
              "      <td>0</td>\n",
              "      <td>NaN</td>\n",
              "      <td>0</td>\n",
              "      <td>NaN</td>\n",
              "      <td>130</td>\n",
              "      <td>Mexico</td>\n",
              "      <td>1</td>\n",
              "      <td>...</td>\n",
              "      <td>NaN</td>\n",
              "      <td>NaN</td>\n",
              "      <td>NaN</td>\n",
              "      <td>NaN</td>\n",
              "      <td>PGIS</td>\n",
              "      <td>0</td>\n",
              "      <td>1</td>\n",
              "      <td>1</td>\n",
              "      <td>1</td>\n",
              "      <td>NaN</td>\n",
              "    </tr>\n",
              "  </tbody>\n",
              "</table>\n",
              "<p>2 rows × 135 columns</p>\n",
              "</div>\n",
              "      <button class=\"colab-df-convert\" onclick=\"convertToInteractive('df-4793c66f-4325-4d8f-9d93-52317c2a989c')\"\n",
              "              title=\"Convert this dataframe to an interactive table.\"\n",
              "              style=\"display:none;\">\n",
              "        \n",
              "  <svg xmlns=\"http://www.w3.org/2000/svg\" height=\"24px\"viewBox=\"0 0 24 24\"\n",
              "       width=\"24px\">\n",
              "    <path d=\"M0 0h24v24H0V0z\" fill=\"none\"/>\n",
              "    <path d=\"M18.56 5.44l.94 2.06.94-2.06 2.06-.94-2.06-.94-.94-2.06-.94 2.06-2.06.94zm-11 1L8.5 8.5l.94-2.06 2.06-.94-2.06-.94L8.5 2.5l-.94 2.06-2.06.94zm10 10l.94 2.06.94-2.06 2.06-.94-2.06-.94-.94-2.06-.94 2.06-2.06.94z\"/><path d=\"M17.41 7.96l-1.37-1.37c-.4-.4-.92-.59-1.43-.59-.52 0-1.04.2-1.43.59L10.3 9.45l-7.72 7.72c-.78.78-.78 2.05 0 2.83L4 21.41c.39.39.9.59 1.41.59.51 0 1.02-.2 1.41-.59l7.78-7.78 2.81-2.81c.8-.78.8-2.07 0-2.86zM5.41 20L4 18.59l7.72-7.72 1.47 1.35L5.41 20z\"/>\n",
              "  </svg>\n",
              "      </button>\n",
              "      \n",
              "  <style>\n",
              "    .colab-df-container {\n",
              "      display:flex;\n",
              "      flex-wrap:wrap;\n",
              "      gap: 12px;\n",
              "    }\n",
              "\n",
              "    .colab-df-convert {\n",
              "      background-color: #E8F0FE;\n",
              "      border: none;\n",
              "      border-radius: 50%;\n",
              "      cursor: pointer;\n",
              "      display: none;\n",
              "      fill: #1967D2;\n",
              "      height: 32px;\n",
              "      padding: 0 0 0 0;\n",
              "      width: 32px;\n",
              "    }\n",
              "\n",
              "    .colab-df-convert:hover {\n",
              "      background-color: #E2EBFA;\n",
              "      box-shadow: 0px 1px 2px rgba(60, 64, 67, 0.3), 0px 1px 3px 1px rgba(60, 64, 67, 0.15);\n",
              "      fill: #174EA6;\n",
              "    }\n",
              "\n",
              "    [theme=dark] .colab-df-convert {\n",
              "      background-color: #3B4455;\n",
              "      fill: #D2E3FC;\n",
              "    }\n",
              "\n",
              "    [theme=dark] .colab-df-convert:hover {\n",
              "      background-color: #434B5C;\n",
              "      box-shadow: 0px 1px 3px 1px rgba(0, 0, 0, 0.15);\n",
              "      filter: drop-shadow(0px 1px 2px rgba(0, 0, 0, 0.3));\n",
              "      fill: #FFFFFF;\n",
              "    }\n",
              "  </style>\n",
              "\n",
              "      <script>\n",
              "        const buttonEl =\n",
              "          document.querySelector('#df-4793c66f-4325-4d8f-9d93-52317c2a989c button.colab-df-convert');\n",
              "        buttonEl.style.display =\n",
              "          google.colab.kernel.accessAllowed ? 'block' : 'none';\n",
              "\n",
              "        async function convertToInteractive(key) {\n",
              "          const element = document.querySelector('#df-4793c66f-4325-4d8f-9d93-52317c2a989c');\n",
              "          const dataTable =\n",
              "            await google.colab.kernel.invokeFunction('convertToInteractive',\n",
              "                                                     [key], {});\n",
              "          if (!dataTable) return;\n",
              "\n",
              "          const docLinkHtml = 'Like what you see? Visit the ' +\n",
              "            '<a target=\"_blank\" href=https://colab.research.google.com/notebooks/data_table.ipynb>data table notebook</a>'\n",
              "            + ' to learn more about interactive tables.';\n",
              "          element.innerHTML = '';\n",
              "          dataTable['output_type'] = 'display_data';\n",
              "          await google.colab.output.renderOutput(dataTable, element);\n",
              "          const docLink = document.createElement('div');\n",
              "          docLink.innerHTML = docLinkHtml;\n",
              "          element.appendChild(docLink);\n",
              "        }\n",
              "      </script>\n",
              "    </div>\n",
              "  </div>\n",
              "  "
            ]
          },
          "metadata": {},
          "execution_count": 15
        }
      ]
    },
    {
      "cell_type": "code",
      "source": [
        "#replacing Na values of every column with dtype as float64 by  mean \n",
        "#list_num_col = data_ter.select_dtypes(include = [\"float64\"]).columns.to_list()\n",
        "#for i in list_num_col:\n",
        " # data_ter.loc[:, i] = data_ter[i].fillna(data_ter[i].mean())\n"
      ],
      "metadata": {
        "id": "IdPbu7u12TqZ"
      },
      "execution_count": 16,
      "outputs": []
    },
    {
      "cell_type": "code",
      "source": [
        "#replacing Na values of every column with dtype as object by mode\n",
        "#list_str_col = data_ter.select_dtypes(include = [\"object\"]).columns.to_list()\n",
        "#for i in list_num_col:\n",
        "  #data_ter.loc[:, i] = data_ter[i].fillna(data_ter[i].mode()[0])\n"
      ],
      "metadata": {
        "id": "RcEICETt4Klc"
      },
      "execution_count": 17,
      "outputs": []
    },
    {
      "cell_type": "markdown",
      "source": [
        "###Renaming and Selecting Required Columns"
      ],
      "metadata": {
        "id": "ZeDpkjsCBmKw"
      }
    },
    {
      "cell_type": "code",
      "source": [
        "data_ter.rename(columns={'iyear':'Year','imonth':'Month','iday':'Day','eventid':'Eventid',\n",
        "                   'approxdate':'Date','region_txt':'Region',\n",
        "                   'country_txt':'Country','attacktype1_txt':'Attack_Type',\n",
        "                   'target1':'Target','nkill':'Killed','nwound':'Wounded',\n",
        "                   'gname':'Group','targtype1_txt':'Target_Type',\n",
        "                   'weaptype1_txt':'Weapon_Type','provstate':'State','motive':'Motive'},inplace=True)"
      ],
      "metadata": {
        "id": "R-O-9uxZCXf-"
      },
      "execution_count": 18,
      "outputs": []
    },
    {
      "cell_type": "code",
      "source": [
        "df = data_ter[['Year','Month','Day','Country','State','Region','city','Motive',\n",
        "           'latitude','longitude','Attack_Type','Killed','Wounded','Target',\n",
        "           'summary','Group','Target_Type','Weapon_Type']]\n",
        "df['Casualities'] = df['Killed']+df['Wounded']\n"
      ],
      "metadata": {
        "id": "-6gpYCYICh0N"
      },
      "execution_count": 19,
      "outputs": []
    },
    {
      "cell_type": "markdown",
      "source": [
        "###Extracting New Data"
      ],
      "metadata": {
        "id": "H_qSNzRPDLzX"
      }
    },
    {
      "cell_type": "code",
      "source": [
        "df.head(2)"
      ],
      "metadata": {
        "colab": {
          "base_uri": "https://localhost:8080/",
          "height": 262
        },
        "id": "BNEa3jLUZomN",
        "outputId": "9eec6503-9873-4bb6-f2a5-d204db23dbb9"
      },
      "execution_count": 20,
      "outputs": [
        {
          "output_type": "execute_result",
          "data": {
            "text/plain": [
              "   Year  Month  Day             Country    State                       Region  \\\n",
              "0  1970      7    2  Dominican Republic      NaN  Central America & Caribbean   \n",
              "1  1970      0    0              Mexico  Federal                North America   \n",
              "\n",
              "            city Motive   latitude  longitude                  Attack_Type  \\\n",
              "0  Santo Domingo    NaN  18.456792 -69.951164                Assassination   \n",
              "1    Mexico city    NaN  19.371887 -99.086624  Hostage Taking (Kidnapping)   \n",
              "\n",
              "   Killed  Wounded                   Target summary  \\\n",
              "0     1.0      0.0             Julio Guzman     NaN   \n",
              "1     0.0      0.0  Nadine Chaval, daughter     NaN   \n",
              "\n",
              "                                Group                  Target_Type  \\\n",
              "0                              MANO-D  Private Citizens & Property   \n",
              "1  23rd of September Communist League      Government (Diplomatic)   \n",
              "\n",
              "  Weapon_Type  Casualities  \n",
              "0     Unknown          1.0  \n",
              "1     Unknown          0.0  "
            ],
            "text/html": [
              "\n",
              "  <div id=\"df-b4fad609-56bf-4cd9-8899-871c8af09335\">\n",
              "    <div class=\"colab-df-container\">\n",
              "      <div>\n",
              "<style scoped>\n",
              "    .dataframe tbody tr th:only-of-type {\n",
              "        vertical-align: middle;\n",
              "    }\n",
              "\n",
              "    .dataframe tbody tr th {\n",
              "        vertical-align: top;\n",
              "    }\n",
              "\n",
              "    .dataframe thead th {\n",
              "        text-align: right;\n",
              "    }\n",
              "</style>\n",
              "<table border=\"1\" class=\"dataframe\">\n",
              "  <thead>\n",
              "    <tr style=\"text-align: right;\">\n",
              "      <th></th>\n",
              "      <th>Year</th>\n",
              "      <th>Month</th>\n",
              "      <th>Day</th>\n",
              "      <th>Country</th>\n",
              "      <th>State</th>\n",
              "      <th>Region</th>\n",
              "      <th>city</th>\n",
              "      <th>Motive</th>\n",
              "      <th>latitude</th>\n",
              "      <th>longitude</th>\n",
              "      <th>Attack_Type</th>\n",
              "      <th>Killed</th>\n",
              "      <th>Wounded</th>\n",
              "      <th>Target</th>\n",
              "      <th>summary</th>\n",
              "      <th>Group</th>\n",
              "      <th>Target_Type</th>\n",
              "      <th>Weapon_Type</th>\n",
              "      <th>Casualities</th>\n",
              "    </tr>\n",
              "  </thead>\n",
              "  <tbody>\n",
              "    <tr>\n",
              "      <th>0</th>\n",
              "      <td>1970</td>\n",
              "      <td>7</td>\n",
              "      <td>2</td>\n",
              "      <td>Dominican Republic</td>\n",
              "      <td>NaN</td>\n",
              "      <td>Central America &amp; Caribbean</td>\n",
              "      <td>Santo Domingo</td>\n",
              "      <td>NaN</td>\n",
              "      <td>18.456792</td>\n",
              "      <td>-69.951164</td>\n",
              "      <td>Assassination</td>\n",
              "      <td>1.0</td>\n",
              "      <td>0.0</td>\n",
              "      <td>Julio Guzman</td>\n",
              "      <td>NaN</td>\n",
              "      <td>MANO-D</td>\n",
              "      <td>Private Citizens &amp; Property</td>\n",
              "      <td>Unknown</td>\n",
              "      <td>1.0</td>\n",
              "    </tr>\n",
              "    <tr>\n",
              "      <th>1</th>\n",
              "      <td>1970</td>\n",
              "      <td>0</td>\n",
              "      <td>0</td>\n",
              "      <td>Mexico</td>\n",
              "      <td>Federal</td>\n",
              "      <td>North America</td>\n",
              "      <td>Mexico city</td>\n",
              "      <td>NaN</td>\n",
              "      <td>19.371887</td>\n",
              "      <td>-99.086624</td>\n",
              "      <td>Hostage Taking (Kidnapping)</td>\n",
              "      <td>0.0</td>\n",
              "      <td>0.0</td>\n",
              "      <td>Nadine Chaval, daughter</td>\n",
              "      <td>NaN</td>\n",
              "      <td>23rd of September Communist League</td>\n",
              "      <td>Government (Diplomatic)</td>\n",
              "      <td>Unknown</td>\n",
              "      <td>0.0</td>\n",
              "    </tr>\n",
              "  </tbody>\n",
              "</table>\n",
              "</div>\n",
              "      <button class=\"colab-df-convert\" onclick=\"convertToInteractive('df-b4fad609-56bf-4cd9-8899-871c8af09335')\"\n",
              "              title=\"Convert this dataframe to an interactive table.\"\n",
              "              style=\"display:none;\">\n",
              "        \n",
              "  <svg xmlns=\"http://www.w3.org/2000/svg\" height=\"24px\"viewBox=\"0 0 24 24\"\n",
              "       width=\"24px\">\n",
              "    <path d=\"M0 0h24v24H0V0z\" fill=\"none\"/>\n",
              "    <path d=\"M18.56 5.44l.94 2.06.94-2.06 2.06-.94-2.06-.94-.94-2.06-.94 2.06-2.06.94zm-11 1L8.5 8.5l.94-2.06 2.06-.94-2.06-.94L8.5 2.5l-.94 2.06-2.06.94zm10 10l.94 2.06.94-2.06 2.06-.94-2.06-.94-.94-2.06-.94 2.06-2.06.94z\"/><path d=\"M17.41 7.96l-1.37-1.37c-.4-.4-.92-.59-1.43-.59-.52 0-1.04.2-1.43.59L10.3 9.45l-7.72 7.72c-.78.78-.78 2.05 0 2.83L4 21.41c.39.39.9.59 1.41.59.51 0 1.02-.2 1.41-.59l7.78-7.78 2.81-2.81c.8-.78.8-2.07 0-2.86zM5.41 20L4 18.59l7.72-7.72 1.47 1.35L5.41 20z\"/>\n",
              "  </svg>\n",
              "      </button>\n",
              "      \n",
              "  <style>\n",
              "    .colab-df-container {\n",
              "      display:flex;\n",
              "      flex-wrap:wrap;\n",
              "      gap: 12px;\n",
              "    }\n",
              "\n",
              "    .colab-df-convert {\n",
              "      background-color: #E8F0FE;\n",
              "      border: none;\n",
              "      border-radius: 50%;\n",
              "      cursor: pointer;\n",
              "      display: none;\n",
              "      fill: #1967D2;\n",
              "      height: 32px;\n",
              "      padding: 0 0 0 0;\n",
              "      width: 32px;\n",
              "    }\n",
              "\n",
              "    .colab-df-convert:hover {\n",
              "      background-color: #E2EBFA;\n",
              "      box-shadow: 0px 1px 2px rgba(60, 64, 67, 0.3), 0px 1px 3px 1px rgba(60, 64, 67, 0.15);\n",
              "      fill: #174EA6;\n",
              "    }\n",
              "\n",
              "    [theme=dark] .colab-df-convert {\n",
              "      background-color: #3B4455;\n",
              "      fill: #D2E3FC;\n",
              "    }\n",
              "\n",
              "    [theme=dark] .colab-df-convert:hover {\n",
              "      background-color: #434B5C;\n",
              "      box-shadow: 0px 1px 3px 1px rgba(0, 0, 0, 0.15);\n",
              "      filter: drop-shadow(0px 1px 2px rgba(0, 0, 0, 0.3));\n",
              "      fill: #FFFFFF;\n",
              "    }\n",
              "  </style>\n",
              "\n",
              "      <script>\n",
              "        const buttonEl =\n",
              "          document.querySelector('#df-b4fad609-56bf-4cd9-8899-871c8af09335 button.colab-df-convert');\n",
              "        buttonEl.style.display =\n",
              "          google.colab.kernel.accessAllowed ? 'block' : 'none';\n",
              "\n",
              "        async function convertToInteractive(key) {\n",
              "          const element = document.querySelector('#df-b4fad609-56bf-4cd9-8899-871c8af09335');\n",
              "          const dataTable =\n",
              "            await google.colab.kernel.invokeFunction('convertToInteractive',\n",
              "                                                     [key], {});\n",
              "          if (!dataTable) return;\n",
              "\n",
              "          const docLinkHtml = 'Like what you see? Visit the ' +\n",
              "            '<a target=\"_blank\" href=https://colab.research.google.com/notebooks/data_table.ipynb>data table notebook</a>'\n",
              "            + ' to learn more about interactive tables.';\n",
              "          element.innerHTML = '';\n",
              "          dataTable['output_type'] = 'display_data';\n",
              "          await google.colab.output.renderOutput(dataTable, element);\n",
              "          const docLink = document.createElement('div');\n",
              "          docLink.innerHTML = docLinkHtml;\n",
              "          element.appendChild(docLink);\n",
              "        }\n",
              "      </script>\n",
              "    </div>\n",
              "  </div>\n",
              "  "
            ]
          },
          "metadata": {},
          "execution_count": 20
        }
      ]
    },
    {
      "cell_type": "markdown",
      "source": [
        "###Shape of Processed Data"
      ],
      "metadata": {
        "id": "1TZzl5vAemYr"
      }
    },
    {
      "cell_type": "code",
      "source": [
        "df.shape"
      ],
      "metadata": {
        "colab": {
          "base_uri": "https://localhost:8080/"
        },
        "id": "ZKOQ-R-8ZxSk",
        "outputId": "b51a3da4-5451-4b03-cd79-5f3d5adac094"
      },
      "execution_count": 21,
      "outputs": [
        {
          "output_type": "execute_result",
          "data": {
            "text/plain": [
              "(181691, 19)"
            ]
          },
          "metadata": {},
          "execution_count": 21
        }
      ]
    },
    {
      "cell_type": "markdown",
      "source": [
        "### Modifications Done and Insights Gained"
      ],
      "metadata": {
        "id": "ZzaM7HS1eIyV"
      }
    },
    {
      "cell_type": "markdown",
      "source": [
        "This Global Terrorism Dataset (GTD) is a widely used dataset on terrorism worldwide, covering incidents from 1970 to 2017. The GTD includes a wide range of variables for each incident.Thus, the dataset is extremely large, consisting of 181691 rows and 135 columns with data types : float64(55), int64(22), object(58)."
      ],
      "metadata": {
        "id": "LeCQfVbGeptX"
      }
    },
    {
      "cell_type": "markdown",
      "source": [
        "Upon checking for duplicate values i got to know that there are no duplicate values in the dataset.Checking for null values in a dataset is also important step in data cleaning and preparation, as null values can have a significant impact on data analysis and modeling. So to ensure that data is accurate and reliable, and that it can be used effectively I identified the null values with total count of 13853997, and then handled by Dropping any column in the DataFrame df that contains all missing values (i.e., NaN).\n",
        "\n",
        "\n",
        "\n"
      ],
      "metadata": {
        "id": "XYdb0XklbFrV"
      }
    },
    {
      "cell_type": "markdown",
      "source": [],
      "metadata": {
        "id": "pGOn0vVleYHV"
      }
    },
    {
      "cell_type": "code",
      "source": [],
      "metadata": {
        "id": "uA_r_cCheXLZ"
      },
      "execution_count": 21,
      "outputs": []
    }
  ]
}