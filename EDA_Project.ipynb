{
  "nbformat": 4,
  "nbformat_minor": 0,
  "metadata": {
    "colab": {
      "provenance": [],
      "authorship_tag": "ABX9TyPN5P2zYxYK54kte948JzJh",
      "include_colab_link": true
    },
    "kernelspec": {
      "name": "python3",
      "display_name": "Python 3"
    },
    "language_info": {
      "name": "python"
    }
  },
  "cells": [
    {
      "cell_type": "markdown",
      "metadata": {
        "id": "view-in-github",
        "colab_type": "text"
      },
      "source": [
        "<a href=\"https://colab.research.google.com/github/Priyankamishra2098/Global-terrorism-datset-EDA/blob/main/EDA_Project.ipynb\" target=\"_parent\"><img src=\"https://colab.research.google.com/assets/colab-badge.svg\" alt=\"Open In Colab\"/></a>"
      ]
    },
    {
      "cell_type": "code",
      "execution_count": null,
      "metadata": {
        "id": "vF9lUq2vL2qu"
      },
      "outputs": [],
      "source": []
    },
    {
      "cell_type": "markdown",
      "source": [
        "## **1.Importing Libraries and Dataset**"
      ],
      "metadata": {
        "id": "HhfV-JJviCcP"
      }
    },
    {
      "cell_type": "markdown",
      "source": [
        "### Importing Libraries"
      ],
      "metadata": {
        "id": "avjQpq98Yr6O"
      }
    },
    {
      "cell_type": "code",
      "execution_count": 1,
      "metadata": {
        "id": "qR44qWtMXE-v",
        "colab": {
          "base_uri": "https://localhost:8080/"
        },
        "outputId": "01042cf7-4f19-4a10-deea-8d66113d6313"
      },
      "outputs": [
        {
          "output_type": "stream",
          "name": "stdout",
          "text": [
            "Libraries imported sucessfully\n"
          ]
        }
      ],
      "source": [
        "#importing libraries\n",
        "import numpy as np\n",
        "import pandas as pd\n",
        "import matplotlib.pyplot as plt\n",
        "import seaborn as sns\n",
        "import plotly.express as px\n",
        "from wordcloud import WordCloud\n",
        "import warnings\n",
        "warnings.filterwarnings('ignore')\n",
        "print(\"Libraries imported sucessfully\")\n"
      ]
    },
    {
      "cell_type": "markdown",
      "source": [
        "### Loading Dataset"
      ],
      "metadata": {
        "id": "j_9dBOKZV5Tn"
      }
    },
    {
      "cell_type": "code",
      "source": [
        "from google.colab import drive\n",
        "drive.mount('/content/drive')"
      ],
      "metadata": {
        "id": "tje2YtXmh13X",
        "colab": {
          "base_uri": "https://localhost:8080/"
        },
        "outputId": "e4de0bed-fe09-4c69-ddca-0c50008c84ec"
      },
      "execution_count": 2,
      "outputs": [
        {
          "output_type": "stream",
          "name": "stdout",
          "text": [
            "Mounted at /content/drive\n"
          ]
        }
      ]
    },
    {
      "cell_type": "code",
      "source": [
        "df = \"/content/drive/MyDrive/data/Global Terrorism Data.csv\"\n",
        "print(\"Dataset loaded sucessfully\")"
      ],
      "metadata": {
        "id": "0fHPCr0dh5Tj",
        "colab": {
          "base_uri": "https://localhost:8080/"
        },
        "outputId": "3e94ca5d-760c-484a-8b6c-b4062ac7d8d4"
      },
      "execution_count": 3,
      "outputs": [
        {
          "output_type": "stream",
          "name": "stdout",
          "text": [
            "Dataset loaded sucessfully\n"
          ]
        }
      ]
    },
    {
      "cell_type": "markdown",
      "source": [
        "### Reading of Dataset"
      ],
      "metadata": {
        "id": "q3PlFvoDW1w-"
      }
    },
    {
      "cell_type": "code",
      "source": [
        "data_ter = pd.read_csv(df,encoding = 'ISO-8859-1') \n",
        "print('Dataset Read Successfully')"
      ],
      "metadata": {
        "colab": {
          "base_uri": "https://localhost:8080/"
        },
        "id": "GE5_us2LhoJY",
        "outputId": "7c15a84b-0676-41f4-c233-26c4a25f2166"
      },
      "execution_count": 4,
      "outputs": [
        {
          "output_type": "stream",
          "name": "stdout",
          "text": [
            "Dataset Read Successfully\n"
          ]
        }
      ]
    },
    {
      "cell_type": "markdown",
      "source": [
        "###Dimensions of Dataset"
      ],
      "metadata": {
        "id": "fk5xcdMJXJAv"
      }
    },
    {
      "cell_type": "code",
      "source": [
        "data_ter.shape"
      ],
      "metadata": {
        "colab": {
          "base_uri": "https://localhost:8080/"
        },
        "id": "h633tGVVNFor",
        "outputId": "db3334c0-1304-4c4f-8542-8108fb7c315c"
      },
      "execution_count": 5,
      "outputs": [
        {
          "output_type": "execute_result",
          "data": {
            "text/plain": [
              "(181691, 135)"
            ]
          },
          "metadata": {},
          "execution_count": 5
        }
      ]
    },
    {
      "cell_type": "markdown",
      "source": [
        "### Dataset First View"
      ],
      "metadata": {
        "id": "oRf9RqulZnOt"
      }
    },
    {
      "cell_type": "code",
      "source": [
        "data_ter.head(3)"
      ],
      "metadata": {
        "colab": {
          "base_uri": "https://localhost:8080/",
          "height": 254
        },
        "id": "ZYMW9FRKNM3C",
        "outputId": "15570b7e-2d94-496a-8b3e-101ee64c1621"
      },
      "execution_count": 6,
      "outputs": [
        {
          "output_type": "execute_result",
          "data": {
            "text/plain": [
              "        eventid  iyear  imonth  iday approxdate  extended resolution  country  \\\n",
              "0  197000000001   1970       7     2        NaN         0        NaN       58   \n",
              "1  197000000002   1970       0     0        NaN         0        NaN      130   \n",
              "2  197001000001   1970       1     0        NaN         0        NaN      160   \n",
              "\n",
              "          country_txt  region  ... addnotes scite1 scite2  scite3  dbsource  \\\n",
              "0  Dominican Republic       2  ...      NaN    NaN    NaN     NaN      PGIS   \n",
              "1              Mexico       1  ...      NaN    NaN    NaN     NaN      PGIS   \n",
              "2         Philippines       5  ...      NaN    NaN    NaN     NaN      PGIS   \n",
              "\n",
              "   INT_LOG  INT_IDEO INT_MISC INT_ANY  related  \n",
              "0        0         0        0       0      NaN  \n",
              "1        0         1        1       1      NaN  \n",
              "2       -9        -9        1       1      NaN  \n",
              "\n",
              "[3 rows x 135 columns]"
            ],
            "text/html": [
              "\n",
              "  <div id=\"df-0b2336e5-279d-4ac7-a49e-e753a45a8442\">\n",
              "    <div class=\"colab-df-container\">\n",
              "      <div>\n",
              "<style scoped>\n",
              "    .dataframe tbody tr th:only-of-type {\n",
              "        vertical-align: middle;\n",
              "    }\n",
              "\n",
              "    .dataframe tbody tr th {\n",
              "        vertical-align: top;\n",
              "    }\n",
              "\n",
              "    .dataframe thead th {\n",
              "        text-align: right;\n",
              "    }\n",
              "</style>\n",
              "<table border=\"1\" class=\"dataframe\">\n",
              "  <thead>\n",
              "    <tr style=\"text-align: right;\">\n",
              "      <th></th>\n",
              "      <th>eventid</th>\n",
              "      <th>iyear</th>\n",
              "      <th>imonth</th>\n",
              "      <th>iday</th>\n",
              "      <th>approxdate</th>\n",
              "      <th>extended</th>\n",
              "      <th>resolution</th>\n",
              "      <th>country</th>\n",
              "      <th>country_txt</th>\n",
              "      <th>region</th>\n",
              "      <th>...</th>\n",
              "      <th>addnotes</th>\n",
              "      <th>scite1</th>\n",
              "      <th>scite2</th>\n",
              "      <th>scite3</th>\n",
              "      <th>dbsource</th>\n",
              "      <th>INT_LOG</th>\n",
              "      <th>INT_IDEO</th>\n",
              "      <th>INT_MISC</th>\n",
              "      <th>INT_ANY</th>\n",
              "      <th>related</th>\n",
              "    </tr>\n",
              "  </thead>\n",
              "  <tbody>\n",
              "    <tr>\n",
              "      <th>0</th>\n",
              "      <td>197000000001</td>\n",
              "      <td>1970</td>\n",
              "      <td>7</td>\n",
              "      <td>2</td>\n",
              "      <td>NaN</td>\n",
              "      <td>0</td>\n",
              "      <td>NaN</td>\n",
              "      <td>58</td>\n",
              "      <td>Dominican Republic</td>\n",
              "      <td>2</td>\n",
              "      <td>...</td>\n",
              "      <td>NaN</td>\n",
              "      <td>NaN</td>\n",
              "      <td>NaN</td>\n",
              "      <td>NaN</td>\n",
              "      <td>PGIS</td>\n",
              "      <td>0</td>\n",
              "      <td>0</td>\n",
              "      <td>0</td>\n",
              "      <td>0</td>\n",
              "      <td>NaN</td>\n",
              "    </tr>\n",
              "    <tr>\n",
              "      <th>1</th>\n",
              "      <td>197000000002</td>\n",
              "      <td>1970</td>\n",
              "      <td>0</td>\n",
              "      <td>0</td>\n",
              "      <td>NaN</td>\n",
              "      <td>0</td>\n",
              "      <td>NaN</td>\n",
              "      <td>130</td>\n",
              "      <td>Mexico</td>\n",
              "      <td>1</td>\n",
              "      <td>...</td>\n",
              "      <td>NaN</td>\n",
              "      <td>NaN</td>\n",
              "      <td>NaN</td>\n",
              "      <td>NaN</td>\n",
              "      <td>PGIS</td>\n",
              "      <td>0</td>\n",
              "      <td>1</td>\n",
              "      <td>1</td>\n",
              "      <td>1</td>\n",
              "      <td>NaN</td>\n",
              "    </tr>\n",
              "    <tr>\n",
              "      <th>2</th>\n",
              "      <td>197001000001</td>\n",
              "      <td>1970</td>\n",
              "      <td>1</td>\n",
              "      <td>0</td>\n",
              "      <td>NaN</td>\n",
              "      <td>0</td>\n",
              "      <td>NaN</td>\n",
              "      <td>160</td>\n",
              "      <td>Philippines</td>\n",
              "      <td>5</td>\n",
              "      <td>...</td>\n",
              "      <td>NaN</td>\n",
              "      <td>NaN</td>\n",
              "      <td>NaN</td>\n",
              "      <td>NaN</td>\n",
              "      <td>PGIS</td>\n",
              "      <td>-9</td>\n",
              "      <td>-9</td>\n",
              "      <td>1</td>\n",
              "      <td>1</td>\n",
              "      <td>NaN</td>\n",
              "    </tr>\n",
              "  </tbody>\n",
              "</table>\n",
              "<p>3 rows × 135 columns</p>\n",
              "</div>\n",
              "      <button class=\"colab-df-convert\" onclick=\"convertToInteractive('df-0b2336e5-279d-4ac7-a49e-e753a45a8442')\"\n",
              "              title=\"Convert this dataframe to an interactive table.\"\n",
              "              style=\"display:none;\">\n",
              "        \n",
              "  <svg xmlns=\"http://www.w3.org/2000/svg\" height=\"24px\"viewBox=\"0 0 24 24\"\n",
              "       width=\"24px\">\n",
              "    <path d=\"M0 0h24v24H0V0z\" fill=\"none\"/>\n",
              "    <path d=\"M18.56 5.44l.94 2.06.94-2.06 2.06-.94-2.06-.94-.94-2.06-.94 2.06-2.06.94zm-11 1L8.5 8.5l.94-2.06 2.06-.94-2.06-.94L8.5 2.5l-.94 2.06-2.06.94zm10 10l.94 2.06.94-2.06 2.06-.94-2.06-.94-.94-2.06-.94 2.06-2.06.94z\"/><path d=\"M17.41 7.96l-1.37-1.37c-.4-.4-.92-.59-1.43-.59-.52 0-1.04.2-1.43.59L10.3 9.45l-7.72 7.72c-.78.78-.78 2.05 0 2.83L4 21.41c.39.39.9.59 1.41.59.51 0 1.02-.2 1.41-.59l7.78-7.78 2.81-2.81c.8-.78.8-2.07 0-2.86zM5.41 20L4 18.59l7.72-7.72 1.47 1.35L5.41 20z\"/>\n",
              "  </svg>\n",
              "      </button>\n",
              "      \n",
              "  <style>\n",
              "    .colab-df-container {\n",
              "      display:flex;\n",
              "      flex-wrap:wrap;\n",
              "      gap: 12px;\n",
              "    }\n",
              "\n",
              "    .colab-df-convert {\n",
              "      background-color: #E8F0FE;\n",
              "      border: none;\n",
              "      border-radius: 50%;\n",
              "      cursor: pointer;\n",
              "      display: none;\n",
              "      fill: #1967D2;\n",
              "      height: 32px;\n",
              "      padding: 0 0 0 0;\n",
              "      width: 32px;\n",
              "    }\n",
              "\n",
              "    .colab-df-convert:hover {\n",
              "      background-color: #E2EBFA;\n",
              "      box-shadow: 0px 1px 2px rgba(60, 64, 67, 0.3), 0px 1px 3px 1px rgba(60, 64, 67, 0.15);\n",
              "      fill: #174EA6;\n",
              "    }\n",
              "\n",
              "    [theme=dark] .colab-df-convert {\n",
              "      background-color: #3B4455;\n",
              "      fill: #D2E3FC;\n",
              "    }\n",
              "\n",
              "    [theme=dark] .colab-df-convert:hover {\n",
              "      background-color: #434B5C;\n",
              "      box-shadow: 0px 1px 3px 1px rgba(0, 0, 0, 0.15);\n",
              "      filter: drop-shadow(0px 1px 2px rgba(0, 0, 0, 0.3));\n",
              "      fill: #FFFFFF;\n",
              "    }\n",
              "  </style>\n",
              "\n",
              "      <script>\n",
              "        const buttonEl =\n",
              "          document.querySelector('#df-0b2336e5-279d-4ac7-a49e-e753a45a8442 button.colab-df-convert');\n",
              "        buttonEl.style.display =\n",
              "          google.colab.kernel.accessAllowed ? 'block' : 'none';\n",
              "\n",
              "        async function convertToInteractive(key) {\n",
              "          const element = document.querySelector('#df-0b2336e5-279d-4ac7-a49e-e753a45a8442');\n",
              "          const dataTable =\n",
              "            await google.colab.kernel.invokeFunction('convertToInteractive',\n",
              "                                                     [key], {});\n",
              "          if (!dataTable) return;\n",
              "\n",
              "          const docLinkHtml = 'Like what you see? Visit the ' +\n",
              "            '<a target=\"_blank\" href=https://colab.research.google.com/notebooks/data_table.ipynb>data table notebook</a>'\n",
              "            + ' to learn more about interactive tables.';\n",
              "          element.innerHTML = '';\n",
              "          dataTable['output_type'] = 'display_data';\n",
              "          await google.colab.output.renderOutput(dataTable, element);\n",
              "          const docLink = document.createElement('div');\n",
              "          docLink.innerHTML = docLinkHtml;\n",
              "          element.appendChild(docLink);\n",
              "        }\n",
              "      </script>\n",
              "    </div>\n",
              "  </div>\n",
              "  "
            ]
          },
          "metadata": {},
          "execution_count": 6
        }
      ]
    },
    {
      "cell_type": "code",
      "source": [
        "data_ter.tail()"
      ],
      "metadata": {
        "colab": {
          "base_uri": "https://localhost:8080/",
          "height": 716
        },
        "id": "RVD1FV5qNiSP",
        "outputId": "47542dfe-5854-436c-a3f1-10969a15a00f"
      },
      "execution_count": 7,
      "outputs": [
        {
          "output_type": "execute_result",
          "data": {
            "text/plain": [
              "             eventid  iyear  imonth  iday approxdate  extended resolution  \\\n",
              "181686  201712310022   2017      12    31        NaN         0        NaN   \n",
              "181687  201712310029   2017      12    31        NaN         0        NaN   \n",
              "181688  201712310030   2017      12    31        NaN         0        NaN   \n",
              "181689  201712310031   2017      12    31        NaN         0        NaN   \n",
              "181690  201712310032   2017      12    31        NaN         0        NaN   \n",
              "\n",
              "        country  country_txt  region  ... addnotes  \\\n",
              "181686      182      Somalia      11  ...      NaN   \n",
              "181687      200        Syria      10  ...      NaN   \n",
              "181688      160  Philippines       5  ...      NaN   \n",
              "181689       92        India       6  ...      NaN   \n",
              "181690      160  Philippines       5  ...      NaN   \n",
              "\n",
              "                                                   scite1  \\\n",
              "181686  \"Somalia: Al-Shabaab Militants Attack Army Che...   \n",
              "181687  \"Putin's 'victory' in Syria has turned into a ...   \n",
              "181688  \"Maguindanao clashes trap tribe members,\" Phil...   \n",
              "181689  \"Trader escapes grenade attack in Imphal,\" Bus...   \n",
              "181690  \"Security tightened in Cotabato following IED ...   \n",
              "\n",
              "                                                   scite2  \\\n",
              "181686  \"Highlights: Somalia Daily Media Highlights 2 ...   \n",
              "181687  \"Two Russian soldiers killed at Hmeymim base i...   \n",
              "181688                                                NaN   \n",
              "181689                                                NaN   \n",
              "181690  \"Security tightened in Cotabato City,\" Manila ...   \n",
              "\n",
              "                                                   scite3  \\\n",
              "181686  \"Highlights: Somalia Daily Media Highlights 1 ...   \n",
              "181687  \"Two Russian servicemen killed in Syria mortar...   \n",
              "181688                                                NaN   \n",
              "181689                                                NaN   \n",
              "181690                                                NaN   \n",
              "\n",
              "                        dbsource  INT_LOG  INT_IDEO INT_MISC INT_ANY  related  \n",
              "181686  START Primary Collection        0         0        0       0      NaN  \n",
              "181687  START Primary Collection       -9        -9        1       1      NaN  \n",
              "181688  START Primary Collection        0         0        0       0      NaN  \n",
              "181689  START Primary Collection       -9        -9        0      -9      NaN  \n",
              "181690  START Primary Collection       -9        -9        0      -9      NaN  \n",
              "\n",
              "[5 rows x 135 columns]"
            ],
            "text/html": [
              "\n",
              "  <div id=\"df-681ad6e5-989a-4835-af64-b1b005ac99e4\">\n",
              "    <div class=\"colab-df-container\">\n",
              "      <div>\n",
              "<style scoped>\n",
              "    .dataframe tbody tr th:only-of-type {\n",
              "        vertical-align: middle;\n",
              "    }\n",
              "\n",
              "    .dataframe tbody tr th {\n",
              "        vertical-align: top;\n",
              "    }\n",
              "\n",
              "    .dataframe thead th {\n",
              "        text-align: right;\n",
              "    }\n",
              "</style>\n",
              "<table border=\"1\" class=\"dataframe\">\n",
              "  <thead>\n",
              "    <tr style=\"text-align: right;\">\n",
              "      <th></th>\n",
              "      <th>eventid</th>\n",
              "      <th>iyear</th>\n",
              "      <th>imonth</th>\n",
              "      <th>iday</th>\n",
              "      <th>approxdate</th>\n",
              "      <th>extended</th>\n",
              "      <th>resolution</th>\n",
              "      <th>country</th>\n",
              "      <th>country_txt</th>\n",
              "      <th>region</th>\n",
              "      <th>...</th>\n",
              "      <th>addnotes</th>\n",
              "      <th>scite1</th>\n",
              "      <th>scite2</th>\n",
              "      <th>scite3</th>\n",
              "      <th>dbsource</th>\n",
              "      <th>INT_LOG</th>\n",
              "      <th>INT_IDEO</th>\n",
              "      <th>INT_MISC</th>\n",
              "      <th>INT_ANY</th>\n",
              "      <th>related</th>\n",
              "    </tr>\n",
              "  </thead>\n",
              "  <tbody>\n",
              "    <tr>\n",
              "      <th>181686</th>\n",
              "      <td>201712310022</td>\n",
              "      <td>2017</td>\n",
              "      <td>12</td>\n",
              "      <td>31</td>\n",
              "      <td>NaN</td>\n",
              "      <td>0</td>\n",
              "      <td>NaN</td>\n",
              "      <td>182</td>\n",
              "      <td>Somalia</td>\n",
              "      <td>11</td>\n",
              "      <td>...</td>\n",
              "      <td>NaN</td>\n",
              "      <td>\"Somalia: Al-Shabaab Militants Attack Army Che...</td>\n",
              "      <td>\"Highlights: Somalia Daily Media Highlights 2 ...</td>\n",
              "      <td>\"Highlights: Somalia Daily Media Highlights 1 ...</td>\n",
              "      <td>START Primary Collection</td>\n",
              "      <td>0</td>\n",
              "      <td>0</td>\n",
              "      <td>0</td>\n",
              "      <td>0</td>\n",
              "      <td>NaN</td>\n",
              "    </tr>\n",
              "    <tr>\n",
              "      <th>181687</th>\n",
              "      <td>201712310029</td>\n",
              "      <td>2017</td>\n",
              "      <td>12</td>\n",
              "      <td>31</td>\n",
              "      <td>NaN</td>\n",
              "      <td>0</td>\n",
              "      <td>NaN</td>\n",
              "      <td>200</td>\n",
              "      <td>Syria</td>\n",
              "      <td>10</td>\n",
              "      <td>...</td>\n",
              "      <td>NaN</td>\n",
              "      <td>\"Putin's 'victory' in Syria has turned into a ...</td>\n",
              "      <td>\"Two Russian soldiers killed at Hmeymim base i...</td>\n",
              "      <td>\"Two Russian servicemen killed in Syria mortar...</td>\n",
              "      <td>START Primary Collection</td>\n",
              "      <td>-9</td>\n",
              "      <td>-9</td>\n",
              "      <td>1</td>\n",
              "      <td>1</td>\n",
              "      <td>NaN</td>\n",
              "    </tr>\n",
              "    <tr>\n",
              "      <th>181688</th>\n",
              "      <td>201712310030</td>\n",
              "      <td>2017</td>\n",
              "      <td>12</td>\n",
              "      <td>31</td>\n",
              "      <td>NaN</td>\n",
              "      <td>0</td>\n",
              "      <td>NaN</td>\n",
              "      <td>160</td>\n",
              "      <td>Philippines</td>\n",
              "      <td>5</td>\n",
              "      <td>...</td>\n",
              "      <td>NaN</td>\n",
              "      <td>\"Maguindanao clashes trap tribe members,\" Phil...</td>\n",
              "      <td>NaN</td>\n",
              "      <td>NaN</td>\n",
              "      <td>START Primary Collection</td>\n",
              "      <td>0</td>\n",
              "      <td>0</td>\n",
              "      <td>0</td>\n",
              "      <td>0</td>\n",
              "      <td>NaN</td>\n",
              "    </tr>\n",
              "    <tr>\n",
              "      <th>181689</th>\n",
              "      <td>201712310031</td>\n",
              "      <td>2017</td>\n",
              "      <td>12</td>\n",
              "      <td>31</td>\n",
              "      <td>NaN</td>\n",
              "      <td>0</td>\n",
              "      <td>NaN</td>\n",
              "      <td>92</td>\n",
              "      <td>India</td>\n",
              "      <td>6</td>\n",
              "      <td>...</td>\n",
              "      <td>NaN</td>\n",
              "      <td>\"Trader escapes grenade attack in Imphal,\" Bus...</td>\n",
              "      <td>NaN</td>\n",
              "      <td>NaN</td>\n",
              "      <td>START Primary Collection</td>\n",
              "      <td>-9</td>\n",
              "      <td>-9</td>\n",
              "      <td>0</td>\n",
              "      <td>-9</td>\n",
              "      <td>NaN</td>\n",
              "    </tr>\n",
              "    <tr>\n",
              "      <th>181690</th>\n",
              "      <td>201712310032</td>\n",
              "      <td>2017</td>\n",
              "      <td>12</td>\n",
              "      <td>31</td>\n",
              "      <td>NaN</td>\n",
              "      <td>0</td>\n",
              "      <td>NaN</td>\n",
              "      <td>160</td>\n",
              "      <td>Philippines</td>\n",
              "      <td>5</td>\n",
              "      <td>...</td>\n",
              "      <td>NaN</td>\n",
              "      <td>\"Security tightened in Cotabato following IED ...</td>\n",
              "      <td>\"Security tightened in Cotabato City,\" Manila ...</td>\n",
              "      <td>NaN</td>\n",
              "      <td>START Primary Collection</td>\n",
              "      <td>-9</td>\n",
              "      <td>-9</td>\n",
              "      <td>0</td>\n",
              "      <td>-9</td>\n",
              "      <td>NaN</td>\n",
              "    </tr>\n",
              "  </tbody>\n",
              "</table>\n",
              "<p>5 rows × 135 columns</p>\n",
              "</div>\n",
              "      <button class=\"colab-df-convert\" onclick=\"convertToInteractive('df-681ad6e5-989a-4835-af64-b1b005ac99e4')\"\n",
              "              title=\"Convert this dataframe to an interactive table.\"\n",
              "              style=\"display:none;\">\n",
              "        \n",
              "  <svg xmlns=\"http://www.w3.org/2000/svg\" height=\"24px\"viewBox=\"0 0 24 24\"\n",
              "       width=\"24px\">\n",
              "    <path d=\"M0 0h24v24H0V0z\" fill=\"none\"/>\n",
              "    <path d=\"M18.56 5.44l.94 2.06.94-2.06 2.06-.94-2.06-.94-.94-2.06-.94 2.06-2.06.94zm-11 1L8.5 8.5l.94-2.06 2.06-.94-2.06-.94L8.5 2.5l-.94 2.06-2.06.94zm10 10l.94 2.06.94-2.06 2.06-.94-2.06-.94-.94-2.06-.94 2.06-2.06.94z\"/><path d=\"M17.41 7.96l-1.37-1.37c-.4-.4-.92-.59-1.43-.59-.52 0-1.04.2-1.43.59L10.3 9.45l-7.72 7.72c-.78.78-.78 2.05 0 2.83L4 21.41c.39.39.9.59 1.41.59.51 0 1.02-.2 1.41-.59l7.78-7.78 2.81-2.81c.8-.78.8-2.07 0-2.86zM5.41 20L4 18.59l7.72-7.72 1.47 1.35L5.41 20z\"/>\n",
              "  </svg>\n",
              "      </button>\n",
              "      \n",
              "  <style>\n",
              "    .colab-df-container {\n",
              "      display:flex;\n",
              "      flex-wrap:wrap;\n",
              "      gap: 12px;\n",
              "    }\n",
              "\n",
              "    .colab-df-convert {\n",
              "      background-color: #E8F0FE;\n",
              "      border: none;\n",
              "      border-radius: 50%;\n",
              "      cursor: pointer;\n",
              "      display: none;\n",
              "      fill: #1967D2;\n",
              "      height: 32px;\n",
              "      padding: 0 0 0 0;\n",
              "      width: 32px;\n",
              "    }\n",
              "\n",
              "    .colab-df-convert:hover {\n",
              "      background-color: #E2EBFA;\n",
              "      box-shadow: 0px 1px 2px rgba(60, 64, 67, 0.3), 0px 1px 3px 1px rgba(60, 64, 67, 0.15);\n",
              "      fill: #174EA6;\n",
              "    }\n",
              "\n",
              "    [theme=dark] .colab-df-convert {\n",
              "      background-color: #3B4455;\n",
              "      fill: #D2E3FC;\n",
              "    }\n",
              "\n",
              "    [theme=dark] .colab-df-convert:hover {\n",
              "      background-color: #434B5C;\n",
              "      box-shadow: 0px 1px 3px 1px rgba(0, 0, 0, 0.15);\n",
              "      filter: drop-shadow(0px 1px 2px rgba(0, 0, 0, 0.3));\n",
              "      fill: #FFFFFF;\n",
              "    }\n",
              "  </style>\n",
              "\n",
              "      <script>\n",
              "        const buttonEl =\n",
              "          document.querySelector('#df-681ad6e5-989a-4835-af64-b1b005ac99e4 button.colab-df-convert');\n",
              "        buttonEl.style.display =\n",
              "          google.colab.kernel.accessAllowed ? 'block' : 'none';\n",
              "\n",
              "        async function convertToInteractive(key) {\n",
              "          const element = document.querySelector('#df-681ad6e5-989a-4835-af64-b1b005ac99e4');\n",
              "          const dataTable =\n",
              "            await google.colab.kernel.invokeFunction('convertToInteractive',\n",
              "                                                     [key], {});\n",
              "          if (!dataTable) return;\n",
              "\n",
              "          const docLinkHtml = 'Like what you see? Visit the ' +\n",
              "            '<a target=\"_blank\" href=https://colab.research.google.com/notebooks/data_table.ipynb>data table notebook</a>'\n",
              "            + ' to learn more about interactive tables.';\n",
              "          element.innerHTML = '';\n",
              "          dataTable['output_type'] = 'display_data';\n",
              "          await google.colab.output.renderOutput(dataTable, element);\n",
              "          const docLink = document.createElement('div');\n",
              "          docLink.innerHTML = docLinkHtml;\n",
              "          element.appendChild(docLink);\n",
              "        }\n",
              "      </script>\n",
              "    </div>\n",
              "  </div>\n",
              "  "
            ]
          },
          "metadata": {},
          "execution_count": 7
        }
      ]
    },
    {
      "cell_type": "markdown",
      "source": [
        "## **2.Understanding the Variables**"
      ],
      "metadata": {
        "id": "EQImnN4eaeKJ"
      }
    },
    {
      "cell_type": "markdown",
      "source": [
        "###Dataset Information"
      ],
      "metadata": {
        "id": "JlHwYmJAmNHm"
      }
    },
    {
      "cell_type": "code",
      "source": [
        "data_ter.info()"
      ],
      "metadata": {
        "colab": {
          "base_uri": "https://localhost:8080/"
        },
        "id": "Zl37uQcsN1xd",
        "outputId": "2a65e8b1-8d9d-434d-9ba0-a57909dc490e"
      },
      "execution_count": 8,
      "outputs": [
        {
          "output_type": "stream",
          "name": "stdout",
          "text": [
            "<class 'pandas.core.frame.DataFrame'>\n",
            "RangeIndex: 181691 entries, 0 to 181690\n",
            "Columns: 135 entries, eventid to related\n",
            "dtypes: float64(55), int64(22), object(58)\n",
            "memory usage: 187.1+ MB\n"
          ]
        }
      ]
    },
    {
      "cell_type": "code",
      "source": [
        "data_ter.columns"
      ],
      "metadata": {
        "colab": {
          "base_uri": "https://localhost:8080/"
        },
        "id": "tarxrEvjP2IL",
        "outputId": "66cb6401-d0cd-40d2-b7c7-faee158aeb4d"
      },
      "execution_count": 9,
      "outputs": [
        {
          "output_type": "execute_result",
          "data": {
            "text/plain": [
              "Index(['eventid', 'iyear', 'imonth', 'iday', 'approxdate', 'extended',\n",
              "       'resolution', 'country', 'country_txt', 'region',\n",
              "       ...\n",
              "       'addnotes', 'scite1', 'scite2', 'scite3', 'dbsource', 'INT_LOG',\n",
              "       'INT_IDEO', 'INT_MISC', 'INT_ANY', 'related'],\n",
              "      dtype='object', length=135)"
            ]
          },
          "metadata": {},
          "execution_count": 9
        }
      ]
    },
    {
      "cell_type": "markdown",
      "source": [
        "### Number of Duplicate Values in the Dataset"
      ],
      "metadata": {
        "id": "Vmpt6t03cXbZ"
      }
    },
    {
      "cell_type": "code",
      "source": [
        "# Duplicate Values/Duplicate Values Count\n",
        "data_ter.duplicated().sum()"
      ],
      "metadata": {
        "id": "SHbTscxbdYlZ",
        "colab": {
          "base_uri": "https://localhost:8080/"
        },
        "outputId": "5332c798-cdc2-4253-d82e-c276de54e658"
      },
      "execution_count": 10,
      "outputs": [
        {
          "output_type": "execute_result",
          "data": {
            "text/plain": [
              "0"
            ]
          },
          "metadata": {},
          "execution_count": 10
        }
      ]
    },
    {
      "cell_type": "markdown",
      "source": [
        "### Null Values in the Dataset"
      ],
      "metadata": {
        "id": "hu7zFY17cDxL"
      }
    },
    {
      "cell_type": "code",
      "source": [
        "# Missing Values/Null Values Count\n",
        "pd.DataFrame(data_ter.isna().sum()).T"
      ],
      "metadata": {
        "id": "y0ys0IXoR-kL",
        "colab": {
          "base_uri": "https://localhost:8080/",
          "height": 174
        },
        "outputId": "263520ca-701e-4f40-b2ea-97e54fe2e87b"
      },
      "execution_count": 11,
      "outputs": [
        {
          "output_type": "execute_result",
          "data": {
            "text/plain": [
              "   eventid  iyear  imonth  iday  approxdate  extended  resolution  country  \\\n",
              "0        0      0       0     0      172452         0      179471        0   \n",
              "\n",
              "   country_txt  region  ...  addnotes  scite1  scite2  scite3  dbsource  \\\n",
              "0            0       0  ...    153402   66191  104758  138175         0   \n",
              "\n",
              "   INT_LOG  INT_IDEO  INT_MISC  INT_ANY  related  \n",
              "0        0         0         0        0   156653  \n",
              "\n",
              "[1 rows x 135 columns]"
            ],
            "text/html": [
              "\n",
              "  <div id=\"df-77054370-f2f1-436b-92bd-f4f718cd9159\">\n",
              "    <div class=\"colab-df-container\">\n",
              "      <div>\n",
              "<style scoped>\n",
              "    .dataframe tbody tr th:only-of-type {\n",
              "        vertical-align: middle;\n",
              "    }\n",
              "\n",
              "    .dataframe tbody tr th {\n",
              "        vertical-align: top;\n",
              "    }\n",
              "\n",
              "    .dataframe thead th {\n",
              "        text-align: right;\n",
              "    }\n",
              "</style>\n",
              "<table border=\"1\" class=\"dataframe\">\n",
              "  <thead>\n",
              "    <tr style=\"text-align: right;\">\n",
              "      <th></th>\n",
              "      <th>eventid</th>\n",
              "      <th>iyear</th>\n",
              "      <th>imonth</th>\n",
              "      <th>iday</th>\n",
              "      <th>approxdate</th>\n",
              "      <th>extended</th>\n",
              "      <th>resolution</th>\n",
              "      <th>country</th>\n",
              "      <th>country_txt</th>\n",
              "      <th>region</th>\n",
              "      <th>...</th>\n",
              "      <th>addnotes</th>\n",
              "      <th>scite1</th>\n",
              "      <th>scite2</th>\n",
              "      <th>scite3</th>\n",
              "      <th>dbsource</th>\n",
              "      <th>INT_LOG</th>\n",
              "      <th>INT_IDEO</th>\n",
              "      <th>INT_MISC</th>\n",
              "      <th>INT_ANY</th>\n",
              "      <th>related</th>\n",
              "    </tr>\n",
              "  </thead>\n",
              "  <tbody>\n",
              "    <tr>\n",
              "      <th>0</th>\n",
              "      <td>0</td>\n",
              "      <td>0</td>\n",
              "      <td>0</td>\n",
              "      <td>0</td>\n",
              "      <td>172452</td>\n",
              "      <td>0</td>\n",
              "      <td>179471</td>\n",
              "      <td>0</td>\n",
              "      <td>0</td>\n",
              "      <td>0</td>\n",
              "      <td>...</td>\n",
              "      <td>153402</td>\n",
              "      <td>66191</td>\n",
              "      <td>104758</td>\n",
              "      <td>138175</td>\n",
              "      <td>0</td>\n",
              "      <td>0</td>\n",
              "      <td>0</td>\n",
              "      <td>0</td>\n",
              "      <td>0</td>\n",
              "      <td>156653</td>\n",
              "    </tr>\n",
              "  </tbody>\n",
              "</table>\n",
              "<p>1 rows × 135 columns</p>\n",
              "</div>\n",
              "      <button class=\"colab-df-convert\" onclick=\"convertToInteractive('df-77054370-f2f1-436b-92bd-f4f718cd9159')\"\n",
              "              title=\"Convert this dataframe to an interactive table.\"\n",
              "              style=\"display:none;\">\n",
              "        \n",
              "  <svg xmlns=\"http://www.w3.org/2000/svg\" height=\"24px\"viewBox=\"0 0 24 24\"\n",
              "       width=\"24px\">\n",
              "    <path d=\"M0 0h24v24H0V0z\" fill=\"none\"/>\n",
              "    <path d=\"M18.56 5.44l.94 2.06.94-2.06 2.06-.94-2.06-.94-.94-2.06-.94 2.06-2.06.94zm-11 1L8.5 8.5l.94-2.06 2.06-.94-2.06-.94L8.5 2.5l-.94 2.06-2.06.94zm10 10l.94 2.06.94-2.06 2.06-.94-2.06-.94-.94-2.06-.94 2.06-2.06.94z\"/><path d=\"M17.41 7.96l-1.37-1.37c-.4-.4-.92-.59-1.43-.59-.52 0-1.04.2-1.43.59L10.3 9.45l-7.72 7.72c-.78.78-.78 2.05 0 2.83L4 21.41c.39.39.9.59 1.41.59.51 0 1.02-.2 1.41-.59l7.78-7.78 2.81-2.81c.8-.78.8-2.07 0-2.86zM5.41 20L4 18.59l7.72-7.72 1.47 1.35L5.41 20z\"/>\n",
              "  </svg>\n",
              "      </button>\n",
              "      \n",
              "  <style>\n",
              "    .colab-df-container {\n",
              "      display:flex;\n",
              "      flex-wrap:wrap;\n",
              "      gap: 12px;\n",
              "    }\n",
              "\n",
              "    .colab-df-convert {\n",
              "      background-color: #E8F0FE;\n",
              "      border: none;\n",
              "      border-radius: 50%;\n",
              "      cursor: pointer;\n",
              "      display: none;\n",
              "      fill: #1967D2;\n",
              "      height: 32px;\n",
              "      padding: 0 0 0 0;\n",
              "      width: 32px;\n",
              "    }\n",
              "\n",
              "    .colab-df-convert:hover {\n",
              "      background-color: #E2EBFA;\n",
              "      box-shadow: 0px 1px 2px rgba(60, 64, 67, 0.3), 0px 1px 3px 1px rgba(60, 64, 67, 0.15);\n",
              "      fill: #174EA6;\n",
              "    }\n",
              "\n",
              "    [theme=dark] .colab-df-convert {\n",
              "      background-color: #3B4455;\n",
              "      fill: #D2E3FC;\n",
              "    }\n",
              "\n",
              "    [theme=dark] .colab-df-convert:hover {\n",
              "      background-color: #434B5C;\n",
              "      box-shadow: 0px 1px 3px 1px rgba(0, 0, 0, 0.15);\n",
              "      filter: drop-shadow(0px 1px 2px rgba(0, 0, 0, 0.3));\n",
              "      fill: #FFFFFF;\n",
              "    }\n",
              "  </style>\n",
              "\n",
              "      <script>\n",
              "        const buttonEl =\n",
              "          document.querySelector('#df-77054370-f2f1-436b-92bd-f4f718cd9159 button.colab-df-convert');\n",
              "        buttonEl.style.display =\n",
              "          google.colab.kernel.accessAllowed ? 'block' : 'none';\n",
              "\n",
              "        async function convertToInteractive(key) {\n",
              "          const element = document.querySelector('#df-77054370-f2f1-436b-92bd-f4f718cd9159');\n",
              "          const dataTable =\n",
              "            await google.colab.kernel.invokeFunction('convertToInteractive',\n",
              "                                                     [key], {});\n",
              "          if (!dataTable) return;\n",
              "\n",
              "          const docLinkHtml = 'Like what you see? Visit the ' +\n",
              "            '<a target=\"_blank\" href=https://colab.research.google.com/notebooks/data_table.ipynb>data table notebook</a>'\n",
              "            + ' to learn more about interactive tables.';\n",
              "          element.innerHTML = '';\n",
              "          dataTable['output_type'] = 'display_data';\n",
              "          await google.colab.output.renderOutput(dataTable, element);\n",
              "          const docLink = document.createElement('div');\n",
              "          docLink.innerHTML = docLinkHtml;\n",
              "          element.appendChild(docLink);\n",
              "        }\n",
              "      </script>\n",
              "    </div>\n",
              "  </div>\n",
              "  "
            ]
          },
          "metadata": {},
          "execution_count": 11
        }
      ]
    },
    {
      "cell_type": "markdown",
      "source": [
        "###Total Number of Null Values"
      ],
      "metadata": {
        "id": "HTjhsd__ft8M"
      }
    },
    {
      "cell_type": "code",
      "source": [
        "# Counting Total Number of Null Values\n",
        "print('Total number of null values = ',data_ter.isnull().sum().sum())"
      ],
      "metadata": {
        "id": "EmIxt7ELbheP",
        "colab": {
          "base_uri": "https://localhost:8080/"
        },
        "outputId": "fccb642f-284a-4b1e-fba5-bc71aaee1b04"
      },
      "execution_count": 12,
      "outputs": [
        {
          "output_type": "stream",
          "name": "stdout",
          "text": [
            "Total number of null values =  13853997\n"
          ]
        }
      ]
    },
    {
      "cell_type": "markdown",
      "source": [
        "###Checking Columns with more then 50% null values"
      ],
      "metadata": {
        "id": "Oo3g5OUrq1Cn"
      }
    },
    {
      "cell_type": "code",
      "source": [
        "# Calculating the percentage of null values in each column\n",
        "null_percentages = data_ter.isnull().sum() / len(data_ter)\n",
        "\n",
        "# Filtering columns with more than 50% null values\n",
        "null_columns = null_percentages[null_percentages > 0.5].index.tolist()\n",
        "\n",
        "# Printing the columns with more than 50% null values\n",
        "print(null_columns)\n"
      ],
      "metadata": {
        "colab": {
          "base_uri": "https://localhost:8080/"
        },
        "id": "8zimSaOSfV-3",
        "outputId": "a34146c0-f0a1-404b-d803-07628df80cec"
      },
      "execution_count": 13,
      "outputs": [
        {
          "output_type": "stream",
          "name": "stdout",
          "text": [
            "['approxdate', 'resolution', 'location', 'alternative', 'alternative_txt', 'attacktype2', 'attacktype2_txt', 'attacktype3', 'attacktype3_txt', 'targtype2', 'targtype2_txt', 'targsubtype2', 'targsubtype2_txt', 'corp2', 'target2', 'natlty2', 'natlty2_txt', 'targtype3', 'targtype3_txt', 'targsubtype3', 'targsubtype3_txt', 'corp3', 'target3', 'natlty3', 'natlty3_txt', 'gsubname', 'gname2', 'gsubname2', 'gname3', 'gsubname3', 'motive', 'guncertain2', 'guncertain3', 'claimmode', 'claimmode_txt', 'claim2', 'claimmode2', 'claimmode2_txt', 'claim3', 'claimmode3', 'claimmode3_txt', 'compclaim', 'weaptype2', 'weaptype2_txt', 'weapsubtype2', 'weapsubtype2_txt', 'weaptype3', 'weaptype3_txt', 'weapsubtype3', 'weapsubtype3_txt', 'weaptype4', 'weaptype4_txt', 'weapsubtype4', 'weapsubtype4_txt', 'propextent', 'propextent_txt', 'propvalue', 'propcomment', 'nhostkid', 'nhostkidus', 'nhours', 'ndays', 'divert', 'kidhijcountry', 'ransom', 'ransomamt', 'ransomamtus', 'ransompaid', 'ransompaidus', 'ransomnote', 'hostkidoutcome', 'hostkidoutcome_txt', 'nreleased', 'addnotes', 'scite2', 'scite3', 'related']\n"
          ]
        }
      ]
    },
    {
      "cell_type": "markdown",
      "source": [
        "###Correlation Matrix"
      ],
      "metadata": {
        "id": "gsMQRyc7rUuO"
      }
    },
    {
      "cell_type": "code",
      "source": [
        "# calculating the correlation matrix\n",
        "corr_matrix = data_ter.corr()\n",
        "\n",
        "# printing the correlation matrix\n",
        "print(corr_matrix)"
      ],
      "metadata": {
        "colab": {
          "base_uri": "https://localhost:8080/"
        },
        "id": "Ti53GDx4qdnf",
        "outputId": "fa779edf-046c-48f4-f6ec-d14d181b28e7"
      },
      "execution_count": 14,
      "outputs": [
        {
          "output_type": "stream",
          "name": "stdout",
          "text": [
            "            eventid     iyear    imonth      iday  extended   country  \\\n",
            "eventid    1.000000  0.999996  0.002706  0.018336  0.091761 -0.135039   \n",
            "iyear      0.999996  1.000000  0.000139  0.018254  0.091754 -0.135023   \n",
            "imonth     0.002706  0.000139  1.000000  0.005497 -0.000468 -0.006305   \n",
            "iday       0.018336  0.018254  0.005497  1.000000 -0.004700  0.003468   \n",
            "extended   0.091761  0.091754 -0.000468 -0.004700  1.000000 -0.020466   \n",
            "...             ...       ...       ...       ...       ...       ...   \n",
            "nreleased -0.181612 -0.181556 -0.011535  0.001765 -0.192155 -0.044331   \n",
            "INT_LOG   -0.143600 -0.143601 -0.002302 -0.001540  0.071768  0.069904   \n",
            "INT_IDEO  -0.133252 -0.133253 -0.002034 -0.001621  0.075147  0.067564   \n",
            "INT_MISC  -0.077852 -0.077847 -0.002554 -0.002027  0.027335  0.207281   \n",
            "INT_ANY   -0.175605 -0.175596 -0.006336 -0.001199  0.080767  0.153118   \n",
            "\n",
            "             region  latitude  longitude  specificity  ...  ransomamt  \\\n",
            "eventid    0.401371  0.166886   0.003907     0.030641  ...  -0.009990   \n",
            "iyear      0.401384  0.166933   0.003917     0.030626  ...  -0.009984   \n",
            "imonth    -0.002999 -0.015978  -0.003880     0.003621  ...  -0.000710   \n",
            "iday       0.009710  0.003423  -0.002285    -0.006991  ...   0.012755   \n",
            "extended   0.038389 -0.024749   0.000523     0.057897  ...  -0.008114   \n",
            "...             ...       ...        ...          ...  ...        ...   \n",
            "nreleased -0.149511  0.002790  -0.017745    -0.030631  ...   0.054571   \n",
            "INT_LOG   -0.082584 -0.099827   0.002272     0.073022  ...   0.035821   \n",
            "INT_IDEO  -0.071917 -0.094470   0.002268     0.071333  ...   0.039053   \n",
            "INT_MISC   0.043139  0.097652   0.000371    -0.019197  ...   0.023815   \n",
            "INT_ANY   -0.047900 -0.041530   0.002497     0.061389  ...   0.028054   \n",
            "\n",
            "           ransomamtus  ransompaid  ransompaidus  hostkidoutcome  nreleased  \\\n",
            "eventid      -0.018001   -0.014094     -0.165422        0.256113  -0.181612   \n",
            "iyear        -0.018216   -0.014238     -0.165375        0.256092  -0.181556   \n",
            "imonth        0.046989    0.058878     -0.016597        0.011295  -0.011535   \n",
            "iday         -0.010502    0.003148     -0.006581       -0.006706   0.001765   \n",
            "extended      0.028177    0.001966      0.009367        0.233293  -0.192155   \n",
            "...                ...         ...           ...             ...        ...   \n",
            "nreleased     0.034843    0.049322      0.016832       -0.555478   1.000000   \n",
            "INT_LOG       0.031079    0.007029     -0.045504       -0.015442   0.039388   \n",
            "INT_IDEO      0.041983    0.013162     -0.039844       -0.016234   0.040947   \n",
            "INT_MISC      0.125162    0.037227      0.129274       -0.119776   0.085055   \n",
            "INT_ANY       0.053484    0.007275      0.056438       -0.061946   0.064759   \n",
            "\n",
            "            INT_LOG  INT_IDEO  INT_MISC   INT_ANY  \n",
            "eventid   -0.143600 -0.133252 -0.077852 -0.175605  \n",
            "iyear     -0.143601 -0.133253 -0.077847 -0.175596  \n",
            "imonth    -0.002302 -0.002034 -0.002554 -0.006336  \n",
            "iday      -0.001540 -0.001621 -0.002027 -0.001199  \n",
            "extended   0.071768  0.075147  0.027335  0.080767  \n",
            "...             ...       ...       ...       ...  \n",
            "nreleased  0.039388  0.040947  0.085055  0.064759  \n",
            "INT_LOG    1.000000  0.996211  0.052537  0.891051  \n",
            "INT_IDEO   0.996211  1.000000  0.082014  0.893811  \n",
            "INT_MISC   0.052537  0.082014  1.000000  0.252193  \n",
            "INT_ANY    0.891051  0.893811  0.252193  1.000000  \n",
            "\n",
            "[77 rows x 77 columns]\n"
          ]
        }
      ]
    },
    {
      "cell_type": "markdown",
      "source": [
        "###**3.Pre-Processing and Cleaning of Data**"
      ],
      "metadata": {
        "id": "yUWPrr-td-Nw"
      }
    },
    {
      "cell_type": "markdown",
      "source": [
        "###Dropping any column in the DataFrame df that contains all missing values (i.e., NaN)."
      ],
      "metadata": {
        "id": "PL0CdNu0ExG9"
      }
    },
    {
      "cell_type": "code",
      "source": [
        "data_ter.dropna(axis=1,how='all')\n",
        "data_ter.head(2)"
      ],
      "metadata": {
        "colab": {
          "base_uri": "https://localhost:8080/",
          "height": 222
        },
        "id": "QMwAoxB6DS_1",
        "outputId": "4b436bdc-32f7-42e8-e831-d66430cca4bf"
      },
      "execution_count": 15,
      "outputs": [
        {
          "output_type": "execute_result",
          "data": {
            "text/plain": [
              "        eventid  iyear  imonth  iday approxdate  extended resolution  country  \\\n",
              "0  197000000001   1970       7     2        NaN         0        NaN       58   \n",
              "1  197000000002   1970       0     0        NaN         0        NaN      130   \n",
              "\n",
              "          country_txt  region  ... addnotes scite1 scite2  scite3  dbsource  \\\n",
              "0  Dominican Republic       2  ...      NaN    NaN    NaN     NaN      PGIS   \n",
              "1              Mexico       1  ...      NaN    NaN    NaN     NaN      PGIS   \n",
              "\n",
              "   INT_LOG  INT_IDEO INT_MISC INT_ANY  related  \n",
              "0        0         0        0       0      NaN  \n",
              "1        0         1        1       1      NaN  \n",
              "\n",
              "[2 rows x 135 columns]"
            ],
            "text/html": [
              "\n",
              "  <div id=\"df-0bec33a2-d3dd-4cd7-9f1a-3255575265be\">\n",
              "    <div class=\"colab-df-container\">\n",
              "      <div>\n",
              "<style scoped>\n",
              "    .dataframe tbody tr th:only-of-type {\n",
              "        vertical-align: middle;\n",
              "    }\n",
              "\n",
              "    .dataframe tbody tr th {\n",
              "        vertical-align: top;\n",
              "    }\n",
              "\n",
              "    .dataframe thead th {\n",
              "        text-align: right;\n",
              "    }\n",
              "</style>\n",
              "<table border=\"1\" class=\"dataframe\">\n",
              "  <thead>\n",
              "    <tr style=\"text-align: right;\">\n",
              "      <th></th>\n",
              "      <th>eventid</th>\n",
              "      <th>iyear</th>\n",
              "      <th>imonth</th>\n",
              "      <th>iday</th>\n",
              "      <th>approxdate</th>\n",
              "      <th>extended</th>\n",
              "      <th>resolution</th>\n",
              "      <th>country</th>\n",
              "      <th>country_txt</th>\n",
              "      <th>region</th>\n",
              "      <th>...</th>\n",
              "      <th>addnotes</th>\n",
              "      <th>scite1</th>\n",
              "      <th>scite2</th>\n",
              "      <th>scite3</th>\n",
              "      <th>dbsource</th>\n",
              "      <th>INT_LOG</th>\n",
              "      <th>INT_IDEO</th>\n",
              "      <th>INT_MISC</th>\n",
              "      <th>INT_ANY</th>\n",
              "      <th>related</th>\n",
              "    </tr>\n",
              "  </thead>\n",
              "  <tbody>\n",
              "    <tr>\n",
              "      <th>0</th>\n",
              "      <td>197000000001</td>\n",
              "      <td>1970</td>\n",
              "      <td>7</td>\n",
              "      <td>2</td>\n",
              "      <td>NaN</td>\n",
              "      <td>0</td>\n",
              "      <td>NaN</td>\n",
              "      <td>58</td>\n",
              "      <td>Dominican Republic</td>\n",
              "      <td>2</td>\n",
              "      <td>...</td>\n",
              "      <td>NaN</td>\n",
              "      <td>NaN</td>\n",
              "      <td>NaN</td>\n",
              "      <td>NaN</td>\n",
              "      <td>PGIS</td>\n",
              "      <td>0</td>\n",
              "      <td>0</td>\n",
              "      <td>0</td>\n",
              "      <td>0</td>\n",
              "      <td>NaN</td>\n",
              "    </tr>\n",
              "    <tr>\n",
              "      <th>1</th>\n",
              "      <td>197000000002</td>\n",
              "      <td>1970</td>\n",
              "      <td>0</td>\n",
              "      <td>0</td>\n",
              "      <td>NaN</td>\n",
              "      <td>0</td>\n",
              "      <td>NaN</td>\n",
              "      <td>130</td>\n",
              "      <td>Mexico</td>\n",
              "      <td>1</td>\n",
              "      <td>...</td>\n",
              "      <td>NaN</td>\n",
              "      <td>NaN</td>\n",
              "      <td>NaN</td>\n",
              "      <td>NaN</td>\n",
              "      <td>PGIS</td>\n",
              "      <td>0</td>\n",
              "      <td>1</td>\n",
              "      <td>1</td>\n",
              "      <td>1</td>\n",
              "      <td>NaN</td>\n",
              "    </tr>\n",
              "  </tbody>\n",
              "</table>\n",
              "<p>2 rows × 135 columns</p>\n",
              "</div>\n",
              "      <button class=\"colab-df-convert\" onclick=\"convertToInteractive('df-0bec33a2-d3dd-4cd7-9f1a-3255575265be')\"\n",
              "              title=\"Convert this dataframe to an interactive table.\"\n",
              "              style=\"display:none;\">\n",
              "        \n",
              "  <svg xmlns=\"http://www.w3.org/2000/svg\" height=\"24px\"viewBox=\"0 0 24 24\"\n",
              "       width=\"24px\">\n",
              "    <path d=\"M0 0h24v24H0V0z\" fill=\"none\"/>\n",
              "    <path d=\"M18.56 5.44l.94 2.06.94-2.06 2.06-.94-2.06-.94-.94-2.06-.94 2.06-2.06.94zm-11 1L8.5 8.5l.94-2.06 2.06-.94-2.06-.94L8.5 2.5l-.94 2.06-2.06.94zm10 10l.94 2.06.94-2.06 2.06-.94-2.06-.94-.94-2.06-.94 2.06-2.06.94z\"/><path d=\"M17.41 7.96l-1.37-1.37c-.4-.4-.92-.59-1.43-.59-.52 0-1.04.2-1.43.59L10.3 9.45l-7.72 7.72c-.78.78-.78 2.05 0 2.83L4 21.41c.39.39.9.59 1.41.59.51 0 1.02-.2 1.41-.59l7.78-7.78 2.81-2.81c.8-.78.8-2.07 0-2.86zM5.41 20L4 18.59l7.72-7.72 1.47 1.35L5.41 20z\"/>\n",
              "  </svg>\n",
              "      </button>\n",
              "      \n",
              "  <style>\n",
              "    .colab-df-container {\n",
              "      display:flex;\n",
              "      flex-wrap:wrap;\n",
              "      gap: 12px;\n",
              "    }\n",
              "\n",
              "    .colab-df-convert {\n",
              "      background-color: #E8F0FE;\n",
              "      border: none;\n",
              "      border-radius: 50%;\n",
              "      cursor: pointer;\n",
              "      display: none;\n",
              "      fill: #1967D2;\n",
              "      height: 32px;\n",
              "      padding: 0 0 0 0;\n",
              "      width: 32px;\n",
              "    }\n",
              "\n",
              "    .colab-df-convert:hover {\n",
              "      background-color: #E2EBFA;\n",
              "      box-shadow: 0px 1px 2px rgba(60, 64, 67, 0.3), 0px 1px 3px 1px rgba(60, 64, 67, 0.15);\n",
              "      fill: #174EA6;\n",
              "    }\n",
              "\n",
              "    [theme=dark] .colab-df-convert {\n",
              "      background-color: #3B4455;\n",
              "      fill: #D2E3FC;\n",
              "    }\n",
              "\n",
              "    [theme=dark] .colab-df-convert:hover {\n",
              "      background-color: #434B5C;\n",
              "      box-shadow: 0px 1px 3px 1px rgba(0, 0, 0, 0.15);\n",
              "      filter: drop-shadow(0px 1px 2px rgba(0, 0, 0, 0.3));\n",
              "      fill: #FFFFFF;\n",
              "    }\n",
              "  </style>\n",
              "\n",
              "      <script>\n",
              "        const buttonEl =\n",
              "          document.querySelector('#df-0bec33a2-d3dd-4cd7-9f1a-3255575265be button.colab-df-convert');\n",
              "        buttonEl.style.display =\n",
              "          google.colab.kernel.accessAllowed ? 'block' : 'none';\n",
              "\n",
              "        async function convertToInteractive(key) {\n",
              "          const element = document.querySelector('#df-0bec33a2-d3dd-4cd7-9f1a-3255575265be');\n",
              "          const dataTable =\n",
              "            await google.colab.kernel.invokeFunction('convertToInteractive',\n",
              "                                                     [key], {});\n",
              "          if (!dataTable) return;\n",
              "\n",
              "          const docLinkHtml = 'Like what you see? Visit the ' +\n",
              "            '<a target=\"_blank\" href=https://colab.research.google.com/notebooks/data_table.ipynb>data table notebook</a>'\n",
              "            + ' to learn more about interactive tables.';\n",
              "          element.innerHTML = '';\n",
              "          dataTable['output_type'] = 'display_data';\n",
              "          await google.colab.output.renderOutput(dataTable, element);\n",
              "          const docLink = document.createElement('div');\n",
              "          docLink.innerHTML = docLinkHtml;\n",
              "          element.appendChild(docLink);\n",
              "        }\n",
              "      </script>\n",
              "    </div>\n",
              "  </div>\n",
              "  "
            ]
          },
          "metadata": {},
          "execution_count": 15
        }
      ]
    },
    {
      "cell_type": "code",
      "source": [
        "#replacing Na values of every column with dtype as float64 by  mean \n",
        "#list_num_col = data_ter.select_dtypes(include = [\"float64\"]).columns.to_list()\n",
        "#for i in list_num_col:\n",
        " # data_ter.loc[:, i] = data_ter[i].fillna(data_ter[i].mean())\n"
      ],
      "metadata": {
        "id": "IdPbu7u12TqZ"
      },
      "execution_count": 16,
      "outputs": []
    },
    {
      "cell_type": "code",
      "source": [
        "#replacing Na values of every column with dtype as object by mode\n",
        "#list_str_col = data_ter.select_dtypes(include = [\"object\"]).columns.to_list()\n",
        "#for i in list_num_col:\n",
        "  #data_ter.loc[:, i] = data_ter[i].fillna(data_ter[i].mode()[0])\n"
      ],
      "metadata": {
        "id": "RcEICETt4Klc"
      },
      "execution_count": 17,
      "outputs": []
    },
    {
      "cell_type": "markdown",
      "source": [
        "###Renaming and Selecting Required Columns"
      ],
      "metadata": {
        "id": "ZeDpkjsCBmKw"
      }
    },
    {
      "cell_type": "code",
      "source": [
        "# Renaming some columns for easier use\n",
        "data_ter.rename(  columns = {'iyear':'Year','imonth':'Month','iday':'Day',\n",
        "                           'eventid':'Eventid','approxdate':'Date',\n",
        "                           'region_txt':'Region','country_txt':'Country',\n",
        "                           'attacktype1_txt':'Attack_Type','target1':'Target',\n",
        "                           'nkill':'Killed','nwound':'Wounded','gname':'Group',\n",
        "                           'targtype1_txt':'Target_Type','motive':'Motive',\n",
        "                           'weaptype1_txt':'Weapon_Type','provstate':'State'},\n",
        "                inplace=True      )"
      ],
      "metadata": {
        "id": "R-O-9uxZCXf-"
      },
      "execution_count": 36,
      "outputs": []
    },
    {
      "cell_type": "code",
      "source": [
        "# Selecting Required Columns for Analysis\n",
        "df = data_ter[['Year','Month','Day','Country','State','Region','city','Motive',\n",
        "           'latitude','longitude','Attack_Type','Killed','Wounded','Target',\n",
        "           'summary','Group','Target_Type','Weapon_Type']]\n",
        "df['Casualities'] = df['Killed']+df['Wounded']\n"
      ],
      "metadata": {
        "id": "-6gpYCYICh0N"
      },
      "execution_count": 37,
      "outputs": []
    },
    {
      "cell_type": "markdown",
      "source": [
        "###Extracting New Data"
      ],
      "metadata": {
        "id": "H_qSNzRPDLzX"
      }
    },
    {
      "cell_type": "code",
      "source": [
        "df.head(2)"
      ],
      "metadata": {
        "colab": {
          "base_uri": "https://localhost:8080/",
          "height": 262
        },
        "id": "BNEa3jLUZomN",
        "outputId": "72d67a73-3743-44d4-b7b2-12b525297f84"
      },
      "execution_count": 20,
      "outputs": [
        {
          "output_type": "execute_result",
          "data": {
            "text/plain": [
              "   Year  Month  Day             Country    State                       Region  \\\n",
              "0  1970      7    2  Dominican Republic      NaN  Central America & Caribbean   \n",
              "1  1970      0    0              Mexico  Federal                North America   \n",
              "\n",
              "            city Motive   latitude  longitude                  Attack_Type  \\\n",
              "0  Santo Domingo    NaN  18.456792 -69.951164                Assassination   \n",
              "1    Mexico city    NaN  19.371887 -99.086624  Hostage Taking (Kidnapping)   \n",
              "\n",
              "   Killed  Wounded                   Target summary  \\\n",
              "0     1.0      0.0             Julio Guzman     NaN   \n",
              "1     0.0      0.0  Nadine Chaval, daughter     NaN   \n",
              "\n",
              "                                Group                  Target_Type  \\\n",
              "0                              MANO-D  Private Citizens & Property   \n",
              "1  23rd of September Communist League      Government (Diplomatic)   \n",
              "\n",
              "  Weapon_Type  Casualities  \n",
              "0     Unknown          1.0  \n",
              "1     Unknown          0.0  "
            ],
            "text/html": [
              "\n",
              "  <div id=\"df-00e0577a-21e0-4c94-870b-5e0f9a73b116\">\n",
              "    <div class=\"colab-df-container\">\n",
              "      <div>\n",
              "<style scoped>\n",
              "    .dataframe tbody tr th:only-of-type {\n",
              "        vertical-align: middle;\n",
              "    }\n",
              "\n",
              "    .dataframe tbody tr th {\n",
              "        vertical-align: top;\n",
              "    }\n",
              "\n",
              "    .dataframe thead th {\n",
              "        text-align: right;\n",
              "    }\n",
              "</style>\n",
              "<table border=\"1\" class=\"dataframe\">\n",
              "  <thead>\n",
              "    <tr style=\"text-align: right;\">\n",
              "      <th></th>\n",
              "      <th>Year</th>\n",
              "      <th>Month</th>\n",
              "      <th>Day</th>\n",
              "      <th>Country</th>\n",
              "      <th>State</th>\n",
              "      <th>Region</th>\n",
              "      <th>city</th>\n",
              "      <th>Motive</th>\n",
              "      <th>latitude</th>\n",
              "      <th>longitude</th>\n",
              "      <th>Attack_Type</th>\n",
              "      <th>Killed</th>\n",
              "      <th>Wounded</th>\n",
              "      <th>Target</th>\n",
              "      <th>summary</th>\n",
              "      <th>Group</th>\n",
              "      <th>Target_Type</th>\n",
              "      <th>Weapon_Type</th>\n",
              "      <th>Casualities</th>\n",
              "    </tr>\n",
              "  </thead>\n",
              "  <tbody>\n",
              "    <tr>\n",
              "      <th>0</th>\n",
              "      <td>1970</td>\n",
              "      <td>7</td>\n",
              "      <td>2</td>\n",
              "      <td>Dominican Republic</td>\n",
              "      <td>NaN</td>\n",
              "      <td>Central America &amp; Caribbean</td>\n",
              "      <td>Santo Domingo</td>\n",
              "      <td>NaN</td>\n",
              "      <td>18.456792</td>\n",
              "      <td>-69.951164</td>\n",
              "      <td>Assassination</td>\n",
              "      <td>1.0</td>\n",
              "      <td>0.0</td>\n",
              "      <td>Julio Guzman</td>\n",
              "      <td>NaN</td>\n",
              "      <td>MANO-D</td>\n",
              "      <td>Private Citizens &amp; Property</td>\n",
              "      <td>Unknown</td>\n",
              "      <td>1.0</td>\n",
              "    </tr>\n",
              "    <tr>\n",
              "      <th>1</th>\n",
              "      <td>1970</td>\n",
              "      <td>0</td>\n",
              "      <td>0</td>\n",
              "      <td>Mexico</td>\n",
              "      <td>Federal</td>\n",
              "      <td>North America</td>\n",
              "      <td>Mexico city</td>\n",
              "      <td>NaN</td>\n",
              "      <td>19.371887</td>\n",
              "      <td>-99.086624</td>\n",
              "      <td>Hostage Taking (Kidnapping)</td>\n",
              "      <td>0.0</td>\n",
              "      <td>0.0</td>\n",
              "      <td>Nadine Chaval, daughter</td>\n",
              "      <td>NaN</td>\n",
              "      <td>23rd of September Communist League</td>\n",
              "      <td>Government (Diplomatic)</td>\n",
              "      <td>Unknown</td>\n",
              "      <td>0.0</td>\n",
              "    </tr>\n",
              "  </tbody>\n",
              "</table>\n",
              "</div>\n",
              "      <button class=\"colab-df-convert\" onclick=\"convertToInteractive('df-00e0577a-21e0-4c94-870b-5e0f9a73b116')\"\n",
              "              title=\"Convert this dataframe to an interactive table.\"\n",
              "              style=\"display:none;\">\n",
              "        \n",
              "  <svg xmlns=\"http://www.w3.org/2000/svg\" height=\"24px\"viewBox=\"0 0 24 24\"\n",
              "       width=\"24px\">\n",
              "    <path d=\"M0 0h24v24H0V0z\" fill=\"none\"/>\n",
              "    <path d=\"M18.56 5.44l.94 2.06.94-2.06 2.06-.94-2.06-.94-.94-2.06-.94 2.06-2.06.94zm-11 1L8.5 8.5l.94-2.06 2.06-.94-2.06-.94L8.5 2.5l-.94 2.06-2.06.94zm10 10l.94 2.06.94-2.06 2.06-.94-2.06-.94-.94-2.06-.94 2.06-2.06.94z\"/><path d=\"M17.41 7.96l-1.37-1.37c-.4-.4-.92-.59-1.43-.59-.52 0-1.04.2-1.43.59L10.3 9.45l-7.72 7.72c-.78.78-.78 2.05 0 2.83L4 21.41c.39.39.9.59 1.41.59.51 0 1.02-.2 1.41-.59l7.78-7.78 2.81-2.81c.8-.78.8-2.07 0-2.86zM5.41 20L4 18.59l7.72-7.72 1.47 1.35L5.41 20z\"/>\n",
              "  </svg>\n",
              "      </button>\n",
              "      \n",
              "  <style>\n",
              "    .colab-df-container {\n",
              "      display:flex;\n",
              "      flex-wrap:wrap;\n",
              "      gap: 12px;\n",
              "    }\n",
              "\n",
              "    .colab-df-convert {\n",
              "      background-color: #E8F0FE;\n",
              "      border: none;\n",
              "      border-radius: 50%;\n",
              "      cursor: pointer;\n",
              "      display: none;\n",
              "      fill: #1967D2;\n",
              "      height: 32px;\n",
              "      padding: 0 0 0 0;\n",
              "      width: 32px;\n",
              "    }\n",
              "\n",
              "    .colab-df-convert:hover {\n",
              "      background-color: #E2EBFA;\n",
              "      box-shadow: 0px 1px 2px rgba(60, 64, 67, 0.3), 0px 1px 3px 1px rgba(60, 64, 67, 0.15);\n",
              "      fill: #174EA6;\n",
              "    }\n",
              "\n",
              "    [theme=dark] .colab-df-convert {\n",
              "      background-color: #3B4455;\n",
              "      fill: #D2E3FC;\n",
              "    }\n",
              "\n",
              "    [theme=dark] .colab-df-convert:hover {\n",
              "      background-color: #434B5C;\n",
              "      box-shadow: 0px 1px 3px 1px rgba(0, 0, 0, 0.15);\n",
              "      filter: drop-shadow(0px 1px 2px rgba(0, 0, 0, 0.3));\n",
              "      fill: #FFFFFF;\n",
              "    }\n",
              "  </style>\n",
              "\n",
              "      <script>\n",
              "        const buttonEl =\n",
              "          document.querySelector('#df-00e0577a-21e0-4c94-870b-5e0f9a73b116 button.colab-df-convert');\n",
              "        buttonEl.style.display =\n",
              "          google.colab.kernel.accessAllowed ? 'block' : 'none';\n",
              "\n",
              "        async function convertToInteractive(key) {\n",
              "          const element = document.querySelector('#df-00e0577a-21e0-4c94-870b-5e0f9a73b116');\n",
              "          const dataTable =\n",
              "            await google.colab.kernel.invokeFunction('convertToInteractive',\n",
              "                                                     [key], {});\n",
              "          if (!dataTable) return;\n",
              "\n",
              "          const docLinkHtml = 'Like what you see? Visit the ' +\n",
              "            '<a target=\"_blank\" href=https://colab.research.google.com/notebooks/data_table.ipynb>data table notebook</a>'\n",
              "            + ' to learn more about interactive tables.';\n",
              "          element.innerHTML = '';\n",
              "          dataTable['output_type'] = 'display_data';\n",
              "          await google.colab.output.renderOutput(dataTable, element);\n",
              "          const docLink = document.createElement('div');\n",
              "          docLink.innerHTML = docLinkHtml;\n",
              "          element.appendChild(docLink);\n",
              "        }\n",
              "      </script>\n",
              "    </div>\n",
              "  </div>\n",
              "  "
            ]
          },
          "metadata": {},
          "execution_count": 20
        }
      ]
    },
    {
      "cell_type": "markdown",
      "source": [
        "###Shape of Processed Data"
      ],
      "metadata": {
        "id": "1TZzl5vAemYr"
      }
    },
    {
      "cell_type": "code",
      "source": [
        "df.shape"
      ],
      "metadata": {
        "colab": {
          "base_uri": "https://localhost:8080/"
        },
        "id": "ZKOQ-R-8ZxSk",
        "outputId": "64775ed2-b1f2-4aaa-9274-f30172cdf57f"
      },
      "execution_count": 25,
      "outputs": [
        {
          "output_type": "execute_result",
          "data": {
            "text/plain": [
              "(181691, 19)"
            ]
          },
          "metadata": {},
          "execution_count": 25
        }
      ]
    },
    {
      "cell_type": "markdown",
      "source": [
        "### Modifications Done and Insights Gained"
      ],
      "metadata": {
        "id": "ZzaM7HS1eIyV"
      }
    },
    {
      "cell_type": "markdown",
      "source": [
        "This Global Terrorism Dataset (GTD) is a widely used dataset on terrorism worldwide, covering incidents from 1970 to 2017. The GTD includes a wide range of variables for each incident.Thus, the dataset is extremely large, consisting of 181691 rows and 135 columns with data types : float64(55), int64(22), object(58)."
      ],
      "metadata": {
        "id": "LeCQfVbGeptX"
      }
    },
    {
      "cell_type": "markdown",
      "source": [
        "Upon checking for duplicate values i got to know that there are no duplicate values in the dataset.Checking for null values in a dataset is also important step in data cleaning and preparation, as null values can have a significant impact on data analysis and modeling. So to ensure that data is accurate and reliable, and that it can be used effectively I identified the null values with total count of 13853997, and then handled by Dropping any column in the DataFrame df that contains all missing values (i.e., NaN).\n",
        "\n",
        "\n",
        "\n"
      ],
      "metadata": {
        "id": "XYdb0XklbFrV"
      }
    },
    {
      "cell_type": "markdown",
      "source": [
        "Identified the columns with more than 50 % Null/Missing values.\n",
        "To understand the relationships between variables in the dataset,and select variables for further analysis I took help of Correlation Matrix. \n",
        "Simplified the column names for easier use by renaming them. Since the dataset is huge I selected required columns for analysis. \n",
        "Added a new column 'Casualities'='Killed'+'Wounded'.\n",
        "The shape of new processed data is(181691, 19)."
      ],
      "metadata": {
        "id": "pGOn0vVleYHV"
      }
    },
    {
      "cell_type": "markdown",
      "source": [
        "##**5.Basic Analysis** "
      ],
      "metadata": {
        "id": "13_rLO6sfW57"
      }
    },
    {
      "cell_type": "markdown",
      "source": [
        "###Total count of region in the Dataset"
      ],
      "metadata": {
        "id": "Qec_XbxphTox"
      }
    },
    {
      "cell_type": "code",
      "source": [
        "print('The Total count of Region in the Dataset is\\n:',df['Region'].value_counts())"
      ],
      "metadata": {
        "colab": {
          "base_uri": "https://localhost:8080/"
        },
        "id": "XeP7rBEDf8GT",
        "outputId": "69b0fd62-12fc-42f6-c049-f24549b6e88f"
      },
      "execution_count": 27,
      "outputs": [
        {
          "output_type": "stream",
          "name": "stdout",
          "text": [
            "The Total count of Region in the Dataset is\n",
            ": Middle East & North Africa     50474\n",
            "South Asia                     44974\n",
            "South America                  18978\n",
            "Sub-Saharan Africa             17550\n",
            "Western Europe                 16639\n",
            "Southeast Asia                 12485\n",
            "Central America & Caribbean    10344\n",
            "Eastern Europe                  5144\n",
            "North America                   3456\n",
            "East Asia                        802\n",
            "Central Asia                     563\n",
            "Australasia & Oceania            282\n",
            "Name: Region, dtype: int64\n"
          ]
        }
      ]
    },
    {
      "cell_type": "markdown",
      "source": [
        "###Total count of group in the Dataset"
      ],
      "metadata": {
        "id": "9jlALIrZhc0a"
      }
    },
    {
      "cell_type": "code",
      "source": [
        "print('The Total count of Groups in the Dataset is\\n:',df['Group'].value_counts())"
      ],
      "metadata": {
        "colab": {
          "base_uri": "https://localhost:8080/"
        },
        "id": "1J7oPaZbg_sF",
        "outputId": "4da03a10-38cd-424c-af34-e77e03f63807"
      },
      "execution_count": 28,
      "outputs": [
        {
          "output_type": "stream",
          "name": "stdout",
          "text": [
            "The Total count of Groups in the Dataset is\n",
            ": Unknown                                             82782\n",
            "Taliban                                              7478\n",
            "Islamic State of Iraq and the Levant (ISIL)          5613\n",
            "Shining Path (SL)                                    4555\n",
            "Farabundo Marti National Liberation Front (FMLN)     3351\n",
            "                                                    ...  \n",
            "Ansar Sarallah                                          1\n",
            "Sword of Islam                                          1\n",
            "Support of Ocalan-The Hawks of Thrace                   1\n",
            "Arab Revolutionary Front                                1\n",
            "MANO-D                                                  1\n",
            "Name: Group, Length: 3537, dtype: int64\n"
          ]
        }
      ]
    },
    {
      "cell_type": "markdown",
      "source": [
        "###Total count of Cities in the Dataset"
      ],
      "metadata": {
        "id": "InYcdMigjYeK"
      }
    },
    {
      "cell_type": "code",
      "source": [
        "print('The Total count of Cities in the Dataset is\\n:',df['city'].value_counts())"
      ],
      "metadata": {
        "colab": {
          "base_uri": "https://localhost:8080/"
        },
        "id": "eIMDSafJhjF-",
        "outputId": "734a1ccb-2824-4b83-bcf6-22ed2dfa1fb1"
      },
      "execution_count": 29,
      "outputs": [
        {
          "output_type": "stream",
          "name": "stdout",
          "text": [
            "The Total count of Cities in the Dataset is\n",
            ": Unknown      9775\n",
            "Baghdad      7589\n",
            "Karachi      2652\n",
            "Lima         2359\n",
            "Mosul        2265\n",
            "             ... \n",
            "Hotwag          1\n",
            "Ostend          1\n",
            "Balughata       1\n",
            "Jikoyi          1\n",
            "Kubentog        1\n",
            "Name: city, Length: 36674, dtype: int64\n"
          ]
        }
      ]
    },
    {
      "cell_type": "markdown",
      "source": [
        "###Total count of Attack type in the Dataset"
      ],
      "metadata": {
        "id": "4fUlft8_jhRq"
      }
    },
    {
      "cell_type": "code",
      "source": [
        "print('The Total count of Attack type in the Dataset is\\n:',df['Attack_Type'].value_counts())"
      ],
      "metadata": {
        "colab": {
          "base_uri": "https://localhost:8080/"
        },
        "id": "c8YzR01qi7DE",
        "outputId": "565aa878-d985-4e91-f9a1-c093a5a8050d"
      },
      "execution_count": 30,
      "outputs": [
        {
          "output_type": "stream",
          "name": "stdout",
          "text": [
            "The Total count of Attack type in the Dataset is\n",
            ": Bombing/Explosion                      88255\n",
            "Armed Assault                          42669\n",
            "Assassination                          19312\n",
            "Hostage Taking (Kidnapping)            11158\n",
            "Facility/Infrastructure Attack         10356\n",
            "Unknown                                 7276\n",
            "Unarmed Assault                         1015\n",
            "Hostage Taking (Barricade Incident)      991\n",
            "Hijacking                                659\n",
            "Name: Attack_Type, dtype: int64\n"
          ]
        }
      ]
    },
    {
      "cell_type": "markdown",
      "source": [
        "###Total count of Target type in the Dataset"
      ],
      "metadata": {
        "id": "L6Y-6m7Pju3z"
      }
    },
    {
      "cell_type": "code",
      "source": [
        "print('The Total count of Target type in the Dataset is\\n:',df['Target_Type'].value_counts())"
      ],
      "metadata": {
        "colab": {
          "base_uri": "https://localhost:8080/"
        },
        "id": "BoJIF3dhjKAK",
        "outputId": "48f7fa2e-1786-4176-8c50-e5b16553163a"
      },
      "execution_count": 31,
      "outputs": [
        {
          "output_type": "stream",
          "name": "stdout",
          "text": [
            "The Total count of Target type in the Dataset is\n",
            ": Private Citizens & Property       43511\n",
            "Military                          27984\n",
            "Police                            24506\n",
            "Government (General)              21283\n",
            "Business                          20669\n",
            "Transportation                     6799\n",
            "Utilities                          6023\n",
            "Unknown                            5898\n",
            "Religious Figures/Institutions     4440\n",
            "Educational Institution            4322\n",
            "Government (Diplomatic)            3573\n",
            "Terrorists/Non-State Militia       3039\n",
            "Journalists & Media                2948\n",
            "Violent Political Party            1866\n",
            "Airports & Aircraft                1343\n",
            "Telecommunication                  1009\n",
            "NGO                                 970\n",
            "Tourists                            440\n",
            "Maritime                            351\n",
            "Food or Water Supply                317\n",
            "Abortion Related                    263\n",
            "Other                               137\n",
            "Name: Target_Type, dtype: int64\n"
          ]
        }
      ]
    },
    {
      "cell_type": "markdown",
      "source": [
        "###Statistical Summary of Data"
      ],
      "metadata": {
        "id": "Mt8MyZRsj5e4"
      }
    },
    {
      "cell_type": "code",
      "source": [
        "df.describe()"
      ],
      "metadata": {
        "colab": {
          "base_uri": "https://localhost:8080/",
          "height": 364
        },
        "id": "QB8F-8p_icxU",
        "outputId": "a469bd9d-088c-44b7-f938-220d042e2524"
      },
      "execution_count": 32,
      "outputs": [
        {
          "output_type": "execute_result",
          "data": {
            "text/plain": [
              "                Year          Month            Day       latitude  \\\n",
              "count  181691.000000  181691.000000  181691.000000  177135.000000   \n",
              "mean     2002.638997       6.467277      15.505644      23.498343   \n",
              "std        13.259430       3.388303       8.814045      18.569242   \n",
              "min      1970.000000       0.000000       0.000000     -53.154613   \n",
              "25%      1991.000000       4.000000       8.000000      11.510046   \n",
              "50%      2009.000000       6.000000      15.000000      31.467463   \n",
              "75%      2014.000000       9.000000      23.000000      34.685087   \n",
              "max      2017.000000      12.000000      31.000000      74.633553   \n",
              "\n",
              "          longitude         Killed        Wounded    Casualities  \n",
              "count  1.771340e+05  171378.000000  165380.000000  164817.000000  \n",
              "mean  -4.586957e+02       2.403272       3.167668       5.296128  \n",
              "std    2.047790e+05      11.545741      35.949392      42.069023  \n",
              "min   -8.618590e+07       0.000000       0.000000       0.000000  \n",
              "25%    4.545640e+00       0.000000       0.000000       0.000000  \n",
              "50%    4.324651e+01       0.000000       0.000000       1.000000  \n",
              "75%    6.871033e+01       2.000000       2.000000       4.000000  \n",
              "max    1.793667e+02    1570.000000    8191.000000    9574.000000  "
            ],
            "text/html": [
              "\n",
              "  <div id=\"df-73ac0b8c-023f-4335-a0c3-5b33955cbb47\">\n",
              "    <div class=\"colab-df-container\">\n",
              "      <div>\n",
              "<style scoped>\n",
              "    .dataframe tbody tr th:only-of-type {\n",
              "        vertical-align: middle;\n",
              "    }\n",
              "\n",
              "    .dataframe tbody tr th {\n",
              "        vertical-align: top;\n",
              "    }\n",
              "\n",
              "    .dataframe thead th {\n",
              "        text-align: right;\n",
              "    }\n",
              "</style>\n",
              "<table border=\"1\" class=\"dataframe\">\n",
              "  <thead>\n",
              "    <tr style=\"text-align: right;\">\n",
              "      <th></th>\n",
              "      <th>Year</th>\n",
              "      <th>Month</th>\n",
              "      <th>Day</th>\n",
              "      <th>latitude</th>\n",
              "      <th>longitude</th>\n",
              "      <th>Killed</th>\n",
              "      <th>Wounded</th>\n",
              "      <th>Casualities</th>\n",
              "    </tr>\n",
              "  </thead>\n",
              "  <tbody>\n",
              "    <tr>\n",
              "      <th>count</th>\n",
              "      <td>181691.000000</td>\n",
              "      <td>181691.000000</td>\n",
              "      <td>181691.000000</td>\n",
              "      <td>177135.000000</td>\n",
              "      <td>1.771340e+05</td>\n",
              "      <td>171378.000000</td>\n",
              "      <td>165380.000000</td>\n",
              "      <td>164817.000000</td>\n",
              "    </tr>\n",
              "    <tr>\n",
              "      <th>mean</th>\n",
              "      <td>2002.638997</td>\n",
              "      <td>6.467277</td>\n",
              "      <td>15.505644</td>\n",
              "      <td>23.498343</td>\n",
              "      <td>-4.586957e+02</td>\n",
              "      <td>2.403272</td>\n",
              "      <td>3.167668</td>\n",
              "      <td>5.296128</td>\n",
              "    </tr>\n",
              "    <tr>\n",
              "      <th>std</th>\n",
              "      <td>13.259430</td>\n",
              "      <td>3.388303</td>\n",
              "      <td>8.814045</td>\n",
              "      <td>18.569242</td>\n",
              "      <td>2.047790e+05</td>\n",
              "      <td>11.545741</td>\n",
              "      <td>35.949392</td>\n",
              "      <td>42.069023</td>\n",
              "    </tr>\n",
              "    <tr>\n",
              "      <th>min</th>\n",
              "      <td>1970.000000</td>\n",
              "      <td>0.000000</td>\n",
              "      <td>0.000000</td>\n",
              "      <td>-53.154613</td>\n",
              "      <td>-8.618590e+07</td>\n",
              "      <td>0.000000</td>\n",
              "      <td>0.000000</td>\n",
              "      <td>0.000000</td>\n",
              "    </tr>\n",
              "    <tr>\n",
              "      <th>25%</th>\n",
              "      <td>1991.000000</td>\n",
              "      <td>4.000000</td>\n",
              "      <td>8.000000</td>\n",
              "      <td>11.510046</td>\n",
              "      <td>4.545640e+00</td>\n",
              "      <td>0.000000</td>\n",
              "      <td>0.000000</td>\n",
              "      <td>0.000000</td>\n",
              "    </tr>\n",
              "    <tr>\n",
              "      <th>50%</th>\n",
              "      <td>2009.000000</td>\n",
              "      <td>6.000000</td>\n",
              "      <td>15.000000</td>\n",
              "      <td>31.467463</td>\n",
              "      <td>4.324651e+01</td>\n",
              "      <td>0.000000</td>\n",
              "      <td>0.000000</td>\n",
              "      <td>1.000000</td>\n",
              "    </tr>\n",
              "    <tr>\n",
              "      <th>75%</th>\n",
              "      <td>2014.000000</td>\n",
              "      <td>9.000000</td>\n",
              "      <td>23.000000</td>\n",
              "      <td>34.685087</td>\n",
              "      <td>6.871033e+01</td>\n",
              "      <td>2.000000</td>\n",
              "      <td>2.000000</td>\n",
              "      <td>4.000000</td>\n",
              "    </tr>\n",
              "    <tr>\n",
              "      <th>max</th>\n",
              "      <td>2017.000000</td>\n",
              "      <td>12.000000</td>\n",
              "      <td>31.000000</td>\n",
              "      <td>74.633553</td>\n",
              "      <td>1.793667e+02</td>\n",
              "      <td>1570.000000</td>\n",
              "      <td>8191.000000</td>\n",
              "      <td>9574.000000</td>\n",
              "    </tr>\n",
              "  </tbody>\n",
              "</table>\n",
              "</div>\n",
              "      <button class=\"colab-df-convert\" onclick=\"convertToInteractive('df-73ac0b8c-023f-4335-a0c3-5b33955cbb47')\"\n",
              "              title=\"Convert this dataframe to an interactive table.\"\n",
              "              style=\"display:none;\">\n",
              "        \n",
              "  <svg xmlns=\"http://www.w3.org/2000/svg\" height=\"24px\"viewBox=\"0 0 24 24\"\n",
              "       width=\"24px\">\n",
              "    <path d=\"M0 0h24v24H0V0z\" fill=\"none\"/>\n",
              "    <path d=\"M18.56 5.44l.94 2.06.94-2.06 2.06-.94-2.06-.94-.94-2.06-.94 2.06-2.06.94zm-11 1L8.5 8.5l.94-2.06 2.06-.94-2.06-.94L8.5 2.5l-.94 2.06-2.06.94zm10 10l.94 2.06.94-2.06 2.06-.94-2.06-.94-.94-2.06-.94 2.06-2.06.94z\"/><path d=\"M17.41 7.96l-1.37-1.37c-.4-.4-.92-.59-1.43-.59-.52 0-1.04.2-1.43.59L10.3 9.45l-7.72 7.72c-.78.78-.78 2.05 0 2.83L4 21.41c.39.39.9.59 1.41.59.51 0 1.02-.2 1.41-.59l7.78-7.78 2.81-2.81c.8-.78.8-2.07 0-2.86zM5.41 20L4 18.59l7.72-7.72 1.47 1.35L5.41 20z\"/>\n",
              "  </svg>\n",
              "      </button>\n",
              "      \n",
              "  <style>\n",
              "    .colab-df-container {\n",
              "      display:flex;\n",
              "      flex-wrap:wrap;\n",
              "      gap: 12px;\n",
              "    }\n",
              "\n",
              "    .colab-df-convert {\n",
              "      background-color: #E8F0FE;\n",
              "      border: none;\n",
              "      border-radius: 50%;\n",
              "      cursor: pointer;\n",
              "      display: none;\n",
              "      fill: #1967D2;\n",
              "      height: 32px;\n",
              "      padding: 0 0 0 0;\n",
              "      width: 32px;\n",
              "    }\n",
              "\n",
              "    .colab-df-convert:hover {\n",
              "      background-color: #E2EBFA;\n",
              "      box-shadow: 0px 1px 2px rgba(60, 64, 67, 0.3), 0px 1px 3px 1px rgba(60, 64, 67, 0.15);\n",
              "      fill: #174EA6;\n",
              "    }\n",
              "\n",
              "    [theme=dark] .colab-df-convert {\n",
              "      background-color: #3B4455;\n",
              "      fill: #D2E3FC;\n",
              "    }\n",
              "\n",
              "    [theme=dark] .colab-df-convert:hover {\n",
              "      background-color: #434B5C;\n",
              "      box-shadow: 0px 1px 3px 1px rgba(0, 0, 0, 0.15);\n",
              "      filter: drop-shadow(0px 1px 2px rgba(0, 0, 0, 0.3));\n",
              "      fill: #FFFFFF;\n",
              "    }\n",
              "  </style>\n",
              "\n",
              "      <script>\n",
              "        const buttonEl =\n",
              "          document.querySelector('#df-73ac0b8c-023f-4335-a0c3-5b33955cbb47 button.colab-df-convert');\n",
              "        buttonEl.style.display =\n",
              "          google.colab.kernel.accessAllowed ? 'block' : 'none';\n",
              "\n",
              "        async function convertToInteractive(key) {\n",
              "          const element = document.querySelector('#df-73ac0b8c-023f-4335-a0c3-5b33955cbb47');\n",
              "          const dataTable =\n",
              "            await google.colab.kernel.invokeFunction('convertToInteractive',\n",
              "                                                     [key], {});\n",
              "          if (!dataTable) return;\n",
              "\n",
              "          const docLinkHtml = 'Like what you see? Visit the ' +\n",
              "            '<a target=\"_blank\" href=https://colab.research.google.com/notebooks/data_table.ipynb>data table notebook</a>'\n",
              "            + ' to learn more about interactive tables.';\n",
              "          element.innerHTML = '';\n",
              "          dataTable['output_type'] = 'display_data';\n",
              "          await google.colab.output.renderOutput(dataTable, element);\n",
              "          const docLink = document.createElement('div');\n",
              "          docLink.innerHTML = docLinkHtml;\n",
              "          element.appendChild(docLink);\n",
              "        }\n",
              "      </script>\n",
              "    </div>\n",
              "  </div>\n",
              "  "
            ]
          },
          "metadata": {},
          "execution_count": 32
        }
      ]
    },
    {
      "cell_type": "code",
      "source": [
        "print(u\"\\u2022\",'Country with Highest terrorist Attacks :',df['Country'].value_counts().index[0])\n",
        "print(u\"\\u2022\",'Regions with Highest Terrorist Attacks :',df['Region'].value_counts().index[0])\n",
        "print(u\"\\u2022\",'Most used Attack Type :',df['Attack_Type'].value_counts().idxmax())\n",
        "print(u\"\\u2022\",'Maximum people killed in an attack are :',df['Killed'].max(),\n",
        "      'that took place in',df.loc[df['Killed'].max()].Country)\n",
        "print(u\"\\u2022\",'Year with the most attacks :',df['Year'].value_counts().idxmax())\n",
        "print(u\"\\u2022\",'Year with the least attacks :',df['Year'].value_counts().idxmin())\n",
        "print(u\"\\u2022\",'Most Active Terror Group :',df['Group'].value_counts().index[1])"
      ],
      "metadata": {
        "id": "fQBU-C3-4Qh4",
        "colab": {
          "base_uri": "https://localhost:8080/"
        },
        "outputId": "f95e6b9f-7153-44ff-d55c-edbf66158e42"
      },
      "execution_count": null,
      "outputs": [
        {
          "output_type": "stream",
          "name": "stdout",
          "text": [
            "• Country with Highest terrorist Attacks : Iraq\n",
            "• Regions with Highest Terrorist Attacks : Middle East & North Africa\n",
            "• Most used Attack Type : Bombing/Explosion\n",
            "• Maximum people killed in an attack are : 1570.0 that took place in United States\n",
            "• Year with the most attacks : 2014\n",
            "• Year with the least attacks : 1971\n",
            "• Most Active Terror Group : Taliban\n"
          ]
        }
      ]
    },
    {
      "cell_type": "markdown",
      "source": [
        "##4.**Data Vizualization, Storytelling & Experimenting with charts : Understand the relationships between variables**"
      ],
      "metadata": {
        "id": "yT4lxOmCdmTD"
      }
    },
    {
      "cell_type": "markdown",
      "source": [
        "###CHART1 : Distribution of Data on Each Series "
      ],
      "metadata": {
        "id": "SP9M2_thWsfG"
      }
    },
    {
      "cell_type": "code",
      "source": [
        "# Chart1 : Histogram showing distribution of Data\n",
        "df.hist(figsize=(20,10))"
      ],
      "metadata": {
        "id": "iRTQns6s5q_l",
        "colab": {
          "base_uri": "https://localhost:8080/",
          "height": 621
        },
        "outputId": "909b7897-63d2-40cc-a594-c22f09149650"
      },
      "execution_count": 34,
      "outputs": [
        {
          "output_type": "execute_result",
          "data": {
            "text/plain": [
              "array([[<Axes: title={'center': 'Year'}>,\n",
              "        <Axes: title={'center': 'Month'}>,\n",
              "        <Axes: title={'center': 'Day'}>],\n",
              "       [<Axes: title={'center': 'latitude'}>,\n",
              "        <Axes: title={'center': 'longitude'}>,\n",
              "        <Axes: title={'center': 'Killed'}>],\n",
              "       [<Axes: title={'center': 'Wounded'}>,\n",
              "        <Axes: title={'center': 'Casualities'}>, <Axes: >]], dtype=object)"
            ]
          },
          "metadata": {},
          "execution_count": 34
        },
        {
          "output_type": "display_data",
          "data": {
            "text/plain": [
              "<Figure size 2000x1000 with 9 Axes>"
            ],
            "image/png": "[encoded data removed]"
          },
          "metadata": {}
        }
      ]
    },
    {
      "cell_type": "markdown",
      "source": [
        "###CHART2 : Heatmap of Correlation among the columns"
      ],
      "metadata": {
        "id": "92DlnVJ7ksU-"
      }
    },
    {
      "cell_type": "code",
      "source": [
        "fig,axes = plt.subplots(1,1,figsize = (14,12))\n",
        "sns.heatmap(df.corr(),annot = True,cmap = \"YlOrRd\"\n",
        ")\n",
        "plt.show"
      ],
      "metadata": {
        "colab": {
          "base_uri": "https://localhost:8080/",
          "height": 878
        },
        "id": "vic5AY5pXORJ",
        "outputId": "71656fa5-ac56-4884-ec4a-b327fc285f87"
      },
      "execution_count": 35,
      "outputs": [
        {
          "output_type": "execute_result",
          "data": {
            "text/plain": [
              "<function matplotlib.pyplot.show(close=None, block=None)>"
            ]
          },
          "metadata": {},
          "execution_count": 35
        },
        {
          "output_type": "display_data",
          "data": {
            "text/plain": [
              "<Figure size 1400x1200 with 2 Axes>"
            ],
            "image/png": "[encoded data removed]"
          },
          "metadata": {}
        }
      ]
    },
    {
      "cell_type": "markdown",
      "source": [
        "###CHART3 : Number of Terrorist Activities Each Year"
      ],
      "metadata": {
        "id": "Rvnnf2o9sZjb"
      }
    },
    {
      "cell_type": "code",
      "source": [
        "# Countplot to visualize Terrorist Attacks in different year\n",
        "plt.subplots(figsize=(12,5))\n",
        "sns.countplot(x='Year',data=df,palette='RdYlGn_r',edgecolor=sns.color_palette('dark',7))\n",
        "plt.xticks(rotation=90)\n",
        "plt.xlabel('Year of attack')\n",
        "plt.title('Number of Terrorist Activities Each Year')\n",
        "plt.show"
      ],
      "metadata": {
        "colab": {
          "base_uri": "https://localhost:8080/",
          "height": 469
        },
        "id": "uorgts7tlZSb",
        "outputId": "49e33ba5-2db4-4614-b629-434c12d2d8c5"
      },
      "execution_count": 38,
      "outputs": [
        {
          "output_type": "execute_result",
          "data": {
            "text/plain": [
              "<function matplotlib.pyplot.show(close=None, block=None)>"
            ]
          },
          "metadata": {},
          "execution_count": 38
        },
        {
          "output_type": "display_data",
          "data": {
            "text/plain": [
              "<Figure size 1200x500 with 1 Axes>"
            ],
            "image/png": "[encoded data removed]"
          },
          "metadata": {}
        }
      ]
    },
    {
      "cell_type": "markdown",
      "source": [
        "##### 1. Why did you pick the specific chart?"
      ],
      "metadata": {
        "id": "49xxJ0ZL39lz"
      }
    },
    {
      "cell_type": "markdown",
      "source": [
        "  Countplots allow us to quickly and easily visualize the frequency of       categorical variables in our dataset.\n",
        "\n",
        "\n",
        "  Thus,I have used counplot to visualize the frequency of attacks in different years. \n",
        "\n",
        "\n",
        "  By counting the number of attacks that occurred in each year and plotting the counts on a bar chart, I can quickly see which years had the most and least number of attacks."
      ],
      "metadata": {
        "id": "4NXu0KzPtQ7J"
      }
    },
    {
      "cell_type": "markdown",
      "source": [
        "##### 2. What is/are the insight(s) found from the chart?"
      ],
      "metadata": {
        "id": "iyKleWeyq_20"
      }
    },
    {
      "cell_type": "markdown",
      "source": [
        "1.The number of terrorist attacks increased significantly in the 2000s, peaking in 2014 with over 16,000 attacks worldwide.\n",
        "\n",
        "\n",
        "2.Prior to the 2000s, the number of attacks remained relatively low, with fewer than 1,000 attacks per year in the 1970s and 1980s, and approximately \n",
        "2,000 attacks per year in the 1990s.\n",
        "\n",
        "\n",
        "3.The 1980s saw a sharp increase in the number of attacks, with a peak of over 4,500 attacks in 1987.\n",
        "\n",
        "4.The early 2000s saw a brief decrease in the number of attacks, likely due to increased global security measures following the 9/11 attacks in 2001.\n",
        "\n",
        "   But then increase in number of attacks after around 2005 shows that the security measures taken lacks somewhere and needs to be revised and followed strictly.\n",
        "\n",
        "\n",
        " There is significant variability in the number of attacks from year to year, with some years showing dramatic increases or decreases in the number of attacks."
      ],
      "metadata": {
        "id": "0Q0Wa05ZvaXe"
      }
    },
    {
      "cell_type": "markdown",
      "source": [
        "##### 3. Will the gained insights help creating a positive impact? \n",
        "Are there any insights that lead to negative growth? Justify with specific reason."
      ],
      "metadata": {
        "id": "8-UX51ofq_21"
      }
    },
    {
      "cell_type": "markdown",
      "source": [
        "  Definately Yes, the policy makers, security agencies,and other stakeholders can be greatly benefited from the information gained through insights from the countplot of the number of terrorist attacks in different years and can potentially create a positive impact in this regard.\n",
        "\n",
        "\n",
        "  It can help in allocating resources and implementing effective strategies for preventing and responding to terrorist attacks. Additionally, understanding the changing patterns and trends in global terrorism can inform the development of targeted initiatives to address the root causes of terrorism, such as poverty, inequality, and political instability.\n",
        "\n",
        "\n",
        "  However, the insights can also lead to negative growth if they are used to promote fear and panic among the public, or to justify discriminatory or oppressive policies against certain groups or communities. \n",
        "\n",
        "\n",
        "  In short, the gained insights from the countplot can potentially help create a positive impact in the fight against terrorism, but it is important to use them in a responsible and ethical manner to avoid any negative consequences.\n",
        "\n"
      ],
      "metadata": {
        "id": "E5mz70Ddxk6o"
      }
    },
    {
      "cell_type": "markdown",
      "source": [
        "###CHART4 : Terrorist Activities by Region in each Year"
      ],
      "metadata": {
        "id": "5Su7A0oK3ANh"
      }
    },
    {
      "cell_type": "code",
      "source": [
        "# Crosstab to visualize the Terrorist activities across region in different year\n",
        "pd.crosstab(df.Year,df.Region).plot(kind = 'area',figsize=(15,6))\n",
        "plt.title(\"Terrorist Activities by Region in each Year\")\n",
        "plt.ylabel(\"No of Attacks\")\n",
        "plt.show"
      ],
      "metadata": {
        "colab": {
          "base_uri": "https://localhost:8080/",
          "height": 429
        },
        "id": "XF8QNYhEtwIj",
        "outputId": "7d43ac4f-4738-4cef-e2b3-8872ceeaf16e"
      },
      "execution_count": 40,
      "outputs": [
        {
          "output_type": "execute_result",
          "data": {
            "text/plain": [
              "<function matplotlib.pyplot.show(close=None, block=None)>"
            ]
          },
          "metadata": {},
          "execution_count": 40
        },
        {
          "output_type": "display_data",
          "data": {
            "text/plain": [
              "<Figure size 1500x600 with 1 Axes>"
            ],
            "image/png": "[encoded data removed]"
          },
          "metadata": {}
        }
      ]
    },
    {
      "cell_type": "markdown",
      "source": [
        "##### 1. Why did you pick the specific chart?"
      ],
      "metadata": {
        "id": "_F2qhm7HV8M8"
      }
    },
    {
      "cell_type": "markdown",
      "source": [
        "  Crosstab  allows us to create a table that displays the frequency distribution of variables across different categories. \n",
        "  \n",
        "  I have used Crosstabulation, or crosstab  to analyze the relationship between the regions where terrorist activities occurred and the year in which they occurred.\n",
        "\n",
        "\n",
        "  By visualizing the data in this way, I can easily identify trends and patterns in terrorist activities across different regions and over time. I can identify regions that have experienced a high number of terrorist activities over the years, as well as those that have seen a decrease or increase in the frequency of attacks.\n"
      ],
      "metadata": {
        "id": "B6z6fg_o4Dvs"
      }
    },
    {
      "cell_type": "markdown",
      "source": [
        "##### 2. What is/are the insight(s) found from the chart?"
      ],
      "metadata": {
        "id": "lQ4UMKQc7FVM"
      }
    },
    {
      "cell_type": "markdown",
      "source": [
        " 1.Middle East & North Africa (MENA) and South Asia are the most affected regions in terms of the number of terrorist incidents.MENA experiencing a highest attacks in the early 2000s and South Asia seeing a surge in the number of attacks since the mid-2000s.\n",
        "\n",
        " 2.Europe, Latin America & Caribbean, and Sub-Saharan Africa have also experienced a significant number of terrorist incidents, with Europe experiencing a surge in the number of attacks in the 1970s and 1980s, and Latin America & Caribbean and Sub-Saharan Africa seeing a increase in the number of attacks in the 2000s.\n",
        "\n",
        " 3.North America, East Asia, and Southeast Asia have relatively lower numbers of terrorist incidents compared to other regions. North America experienced a surge in the number of attacks in the 1970s and 1980s, while East Asia and Southeast Asia have seen a rise in the number of attacks in the 2000s.\n",
        "\n",
        " 4.The number of terrorist incidents has generally increased over time, with a sharp rise in the 2000s. This increase can be attributed to a number of factors, including the rise of extremist ideologies, the proliferation of weapons, and the spread of terrorism to new regions."
      ],
      "metadata": {
        "id": "EvkM57Wa6ALq"
      }
    },
    {
      "cell_type": "markdown",
      "source": [
        "##### 3. Will the gained insights help creating a positive impact? \n",
        "Are there any insights that lead to negative growth? Justify with specific reason."
      ],
      "metadata": {
        "id": "N1kV12wk7Ua7"
      }
    },
    {
      "cell_type": "markdown",
      "source": [
        "  The insights can help create a positive impact by informing policies and strategies to prevent and respond to terrorist activities in different regions. By understanding the patterns and trends of terrorism over time and across different regions, governments and organizations can address the root causes of terrorism, improve security measures, and reduce the impact of terrorism on communities.\n",
        "\n",
        "  However, some of the insights may also lead to negative growth if not addressed properly. For example, the fact that Middle East & North Africa (MENA) and South Asia are the most affected regions in terms of the number of terrorist incidents may lead to negative growth if these regions continue to experience high levels of violence and instability.\n",
        "  The ever-present menace of terrorism in these parts of the world can deter foreign investment, hinder economic growth, and undermine social cohesion. Similarly, the rise of extremist ideologies and the proliferation of weapons may also lead to negative growth if left unchecked, These factors can sustain the cycle of violence and instability."
      ],
      "metadata": {
        "id": "Aq7skBjy7ioW"
      }
    },
    {
      "cell_type": "code",
      "source": [],
      "metadata": {
        "id": "z9KbHUTg5Tby"
      },
      "execution_count": null,
      "outputs": []
    }
  ]
}